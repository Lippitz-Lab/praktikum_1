{
  "cells": [
    {
      "cell_type": "markdown",
      "metadata": {},
      "source": [
        "\n",
        "# Kapitel 3: Fehler und Unsicherheiten\n",
        "\n",
        "Es ist sinnvoll, zwischen Fehlern und Unsicherheiten zu unterscheiden.\n",
        "Fehler sollte man vermeiden. Unsicherheiten sind nie zu vermeiden,\n",
        "können aber reduziert werden.\n"
      ]
    },
    {
      "cell_type": "markdown",
      "metadata": {},
      "source": [
        "\n",
        "**Grobe Fehler** sind beispielsweise offensichtliche Fehlbedienungen des Messgeräts und\n",
        "manifestieren sich durch eine deutliche Abweichung des gemessenen Werts\n",
        "vom erwarteten Messwert. Solche Fehler sollte man natürlich vermeiden.\n",
        "Falls sie doch auftreten und bemerkt werden, dann wiederholt man\n",
        "wahrscheinlich am einfachsten die Messung oder schließt zumindest diesen\n",
        "Messwert von der weiteren Analyse aus.\n"
      ]
    },
    {
      "cell_type": "markdown",
      "metadata": {},
      "source": [
        "\n",
        "**Systematische Fehler** sind eine Umschreibung dafür, dass der Messprozess nicht ganz so\n",
        "einfach, so ideal ist, wie man zunächst denken könnte. Eine Waage zeigt\n",
        "einen von Null verschiedenen Wert an, auch wenn keine Masse aufgelegt\n",
        "ist. Ein Maßstab dehnt sich mit der Temperatur aus. Diese und ähnliche\n",
        "Komplikationen berücksichtigt man durch eine passende Erweiterung des\n",
        "Modells, das die Messung beschreibt. Danach sollten diese Fehler keine\n",
        "Rolle mehr spielen, falls doch, dann beschreiben systematische Fehler\n",
        "mangelndes Verständnis des Messprozesses und sind häufig erst im\n",
        "Rückblick zu erkennen. Gute Experimente zeichnen sich dadurch aus, dass\n",
        "systematische Fehler vollständig behandelt werden.\n"
      ]
    },
    {
      "cell_type": "markdown",
      "metadata": {},
      "source": [
        "\n",
        "**Unsicherheiten** sind aber nie zu vermeiden. Sie können verschiedene Ursachen habe. Jede\n",
        "Waage zeigt das Gewicht nur mit einer endlichen Anzahl Stellen an,\n",
        "beispielsweise $m=12.3$g. Das wahre Gewicht kann damit aber immer noch\n",
        "im Intervall $12.25$g -- $12.35$g liegen. Wiederholte Messungen unter\n",
        "konstanten Bedingungen können abweichende, leicht schwankende Ergebnisse\n",
        "liefern. Dieses Rauschen ist ein Zeichen dafür, dass die Bedingungen\n",
        "technisch oder auch grundsätzlich nicht exakt kontrolliert werden\n",
        "können. Wieviel Atome in der nächsten Sekunde einen Alpha-Zerfall machen\n",
        "unterliegt nicht unserer Kontrolle.\n"
      ]
    },
    {
      "cell_type": "markdown",
      "metadata": {},
      "source": [
        "\n",
        "Wie beschreibt man nun solche Unsicherheiten? Welchen Einfluss haben\n",
        "Unsicherheiten der Messgrößen auf daraus berechnete Werte? Wie\n",
        "berücksichtigt man dabei Unsicherheiten, die man selbst bestimmt, und\n",
        "solche, die beispielsweise in Datenblättern dokumentiert sind? Person A\n",
        "entwickelt eine Waage und dokumentiert deren Unsicherheit. Person B\n",
        "benutzt diese Waage, um die Dichte von Ethanol zu messen, und\n",
        "dokumentiert die Unsicherheit in der Dichte. Person C benutzt diese\n",
        "gemessene Dichte (und deren Unsicherheit), um die Viskosität (und deren\n",
        "Unsicherheit) zu bestimmen. Unsicherheiten müssen also konsistent und\n",
        "vergleichbar dokumentiert werden, und es muss ein Verfahren geben,\n",
        "Unsicherheiten aus verschiedenen Quellen in ein Berechnung einfließen zu\n",
        "lassen.\n"
      ]
    },
    {
      "cell_type": "markdown",
      "metadata": {},
      "source": [
        "\n",
        "Ein solches Verfahren wird im **'Guide to the Expression of Uncertainty in\n",
        "Measurement' (GUM)** des [*Bureau International des Poids et Mesures*](https://www.bipm.org/en/committees/jc/jcgm/publications)\n",
        "beschrieben und ist Industriestandard in der Metrologie. Es\n",
        "standardisiert und modifiziert damit teilweise das, was in der Physik\n",
        "unter 'Fehlerrechnung' verstanden wurde. Ein wesentlicher Punkt ist,\n",
        "dass systematische Fehler gar nicht betrachtet werden (diese sind ja zu\n",
        "vermeiden) und Unsicherheiten nach dem Weg zu ihrer Bestimmung als Typ A\n",
        "(statistisch) und Typ B (Datenblatt) klassifiziert werden. Der\n",
        "wissenschafts-philosophisch interessante Punkt ist die gleichberechtigte\n",
        "Behandlung und Zusammenfassung dieser beiden Typen Unsicherheiten.\n",
        "Unsicherheiten von Typ A benutzen den Wahrscheinlichkeitsbegriff der\n",
        "klassischen Statistik (frequentistisch, also durch Abzählen bestimmt).\n",
        "Typ B Unsicherheiten sind geprägt von dem Bayes'schen\n",
        "Wahrscheinlichkeitsbegriff, der den Grad unserer persönlichen\n",
        "Überzeugung, unseres Wissens beschreibt. Die meisten Wissenschaftler:innen\n",
        "lösen dieses Problem pragmatisch, ebenso wie der GUM, und ignorieren\n",
        "diesen Unterschied außerhalb philosophischer Diskussionen.\n"
      ]
    },
    {
      "cell_type": "markdown",
      "metadata": {},
      "source": [
        "\n",
        "Folgende Quellen beschreiben GUM\n",
        "\n",
        "- [**JCGM 100:2008**](https://www.bipm.org/documents/20126/2071204/JCGM_100_2008_E.pdf/cb0ef43f-baa5-11cf-3f85-4dcd86f77bd6?version=1.9&t=1641292658931&download=true) Dokument 100 aus dem Jahr 2008 des Joint Committee for Guides in\n",
        "    Metrology mit dem Titel 'Evaluation of measurement data --- Guide to\n",
        "    the expression of uncertainty in measurement'. Dies ist der zentrale\n",
        "    Text mit vielen Anhängen, allerdings nicht einfach zu lesen.\n",
        "\n",
        "- [**JCGM 104:2009**](https://www.bipm.org/documents/20126/2071204/JCGM_104_2009.pdf/19e0a96c-6cf3-a056-4634-4465c576e513?version=1.12&t=1641293439338&download=true) Dokument 104 aus dem Jahr 2009 des Joint Committee for Guides in\n",
        "    Metrology mit dem Titel 'Evaluation of measurement data -- An\n",
        "    introduction to the \\\"Guide to the expression of uncertainty in\n",
        "    measurement\\\" and related documents'. Von diesem Text gibt es auch\n",
        "    eine deutsche Übersetzung. Diese Einführung ist etwas besser zu\n",
        "    lesen als \\[JCGM 100:2008\\], aber immer noch sehr formal\n",
        "    geschrieben.\n",
        "\n",
        "- [**Kirkup / Frenkel**](https://doi.org/10.1017/CBO9780511755538) Das Buch 'An Introduction to Uncertainty in Measurement using the\n",
        "    GUM' von Les Kirkup und Bob Frenkel gibt auf ca. 200 Seiten eine\n",
        "    sehr gut lesbare Einführung in dieses Thema. Hier werden auch alle\n",
        "    Beziehungen hergeleitet, auf die in diesem Tutorial nur verwiesen\n",
        "    wird. Auch zeigen die Autoren viele Beispiele.\n"
      ]
    },
    {
      "cell_type": "markdown",
      "metadata": {},
      "source": [
        "\n",
        "# Bestimmung der Messunsicherheit\n",
        "\n",
        "![workflow GUM](https://raw.githubusercontent.com/MarkusLippitz/teca/main/res/04-Messunsicherheit/workflow_std.png \"Schema zur Bestimmung der Messunsicherheit nach GUM, aus JCGM104:2009, dt\")\n",
        "\n",
        "*Schema zur Bestimmung der Messunsicherheit nach GUM, aus JCGM104:2009, dt*\n",
        "\n",
        "\n",
        "Als erstes betrachten wir das Verfahren, mit dem nach GUM die\n",
        "Messunsicherheit eines Ergebnisses aus den Standard-Abweichungen der\n",
        "Eingangswerte berechnet wird. Dies ist sehr nahe an der traditionellen\n",
        "Fehlerrechnung. Die Abbildung zeigt ein Schema dieses Verfahrens. Dieses\n",
        "Verfahren wird dann in den folgenden Abschnitten durch Einführung des\n",
        "Überdeckungsintervalls und Verallgemeinerung auf andere\n",
        "Wahrscheinlichkeitsverteilungen als die Normalverteilung erweitert.\n"
      ]
    },
    {
      "cell_type": "markdown",
      "metadata": {},
      "source": [
        "\n",
        "## Messfunktion\n"
      ]
    },
    {
      "cell_type": "markdown",
      "metadata": {},
      "source": [
        "\n",
        "Selten interessiert der gemessene Wert direkt, sondern verschiedene\n",
        "gemessene Werte sollen zu einem Ausgangswert verknüpft werden. Man\n",
        "bestimmt beispielsweise Masse und Geschwindigkeit, um daraus die\n",
        "kinetische Energie zu berechnen. Diesen Zusammenhang zwischen den\n",
        "Eingangswerten $X_i$ und dem Ausgangswert $Y$ beschriebt die\n",
        "Messfunktion $$Y = f(X_1, ... , X_n) \\quad.$$ Dabei bezeichnen große\n",
        "Buchstaben jeweils den 'wahren', idealen Wert, der nie gemessen sondern\n",
        "immer nur geschätzt werden kann. Die Messfunktion $f$ beruht immer\n",
        "direkt auf den gemessenen Größen, nicht auf Zwischenergebnissen, da nur\n",
        "so berücksichtigt werden kann, wenn eine Messung an verschiedenen\n",
        "Stellen der Funktion eingeht, und so ihre Fehler korreliert sind. Auch\n",
        "umfasst die Messfunktion nicht nur den idealen, 'Lehrbuch-artigen'\n",
        "Zusammenhang zwischen Messgrößen und Ausgangswert, sondern auch alle\n",
        "Korrekturen, die notwendig sind, um systematische Fehler zu beseitigen.\n",
        "Im Beispiel der kinetischen Energie wäre dies also nicht\n",
        "```math\n",
        "E = \\frac{1}{2} \\, m \\, v^2 \\quad \\quad \\text{(kleine Buchstaben hier aus Gewohnheit)}\n",
        "```\n",
        "sondern beispielsweise\n",
        "```math\n",
        "E = \\frac{1}{2} \\, \\alpha  \\, (m  - m_0) \\, \\left( \\frac{ \\beta \\, (L - L_0)}{\\gamma \\, (t_1 - t_2)} \\right)^2\n",
        "\\quad .\n",
        "```\n",
        "Dabei berücksichtigen die Faktoren $\\alpha, \\beta, \\gamma$ die\n",
        "Abweichung in der Kalibration der Masse-, Länge- und Zeit-Messung, sowie\n",
        "$m_0$ und $x_0$ die Abweichung der Nullpunktslage.\n"
      ]
    },
    {
      "cell_type": "markdown",
      "metadata": {},
      "source": [
        "\n",
        "## Schätzwerte der Eingangswerte\n",
        "\n",
        "Die 'wahren' Eingangswerte $X_i$ der Messfunktion kennt man nie. Man\n",
        "kann sich aber Schätzwerte $x_i$ dieser Werte beschaffen. Notfalls ist\n",
        "der Wert der einzigen Messung der Schätzwert $x_i$. Wenn eine Messung\n",
        "mehrmals unter identischen Bedingungen wiederholt durchgeführt werden\n",
        "kann, dann ist der Mittelwert aus diesem Datensatz ein guter Schätzwert.\n",
        "Auch schriftliche Aufzeichnungen wie Datenblätter liefern Schätzwerte\n",
        "der Eingangswerte. Die oben genannten Faktoren $\\alpha, \\beta, \\gamma$\n",
        "zur Abweichung in der Kalibration werden wohl typischerweise mit dem\n",
        "Wert Eins geschätzt, falls nicht ein Gerät fehl-kalibriert ist.\n"
      ]
    },
    {
      "cell_type": "markdown",
      "metadata": {},
      "source": [
        "\n",
        "## Schätzwert des Ergebnisses\n",
        "\n",
        "Den Schätzwert des Ergebnisses $y$ erhält man, in dem man die\n",
        "Schätzwerte der Eingangswerte $x_i$ in die Messfunktion einsetzt\n",
        "```math\n",
        "y = f(x_1, ... , x_n) \\quad .\n",
        "```\n",
        "Der hier beschriebe Formalismus\n",
        "behandelt also nur ein Ergebnis pro Experiment. Wenn zwei oder mehr\n",
        "Ergebnisse aus einem gemeinsamen Datensatz gewonnen werden sollen, dann\n",
        "würde auch die Kovarianz dieser Ergebnisse interessieren. Dies ist ein\n",
        "fortgeschritteneres Thema, ebenso wie die hier nicht berücksichtige\n",
        "Kovarianzen zwischen den Eingangswerten $x_i$.\n"
      ]
    },
    {
      "cell_type": "markdown",
      "metadata": {},
      "source": [
        "\n",
        "## Standard-Messunsicherheit der Eingangswerte\n",
        "\n",
        "Die Standard-Messunsicherheit $u(x_i)$ eines Eingangswerte $x_i$ ist die\n",
        "Standard-Abweichung seiner Wahrscheinlichkeitsverteilung. In den letzten Kapiteln hatten wir das mit $\\sigma_x$ bezeichnet. Man muss also\n",
        "durch Messen (Typ A) oder andere Quellen (Typ B) die\n",
        "Wahrscheinlichkeitsverteilung bestimmen und daraus dann die\n",
        "Standard-Abweichung.\n"
      ]
    },
    {
      "cell_type": "markdown",
      "metadata": {},
      "source": [
        "\n",
        "##### Typ A: Wahrscheinlichkeitsverteilung messen\n",
        "Unsicherheiten vom Typ A werden durch statistische Methoden ermittelt.\n",
        "Beispielsweise wird eine Messung wiederholt durchgeführt. Als Wert des\n",
        "Größe kann dann der Mittelwert dieser Messungen dienen, als Unsicherheit\n",
        "die Standardabweichung der Einzelmessung oder des Mittelwerts.\n",
        "Aufwändigere Auswerteverfahren sind denkbar, beispielsweise um eine\n",
        "darunter liegende Drift zu bereinigen oder eine Größe und deren\n",
        "Unsicherheit per Regression zu bestimmen. Zentral sind hier aber die\n",
        "statistischen Methoden, die Auswertung eines Datensatzes.\n"
      ]
    },
    {
      "cell_type": "markdown",
      "metadata": {},
      "source": [
        "\n",
        "Wiederholte, unabhängige Messungen $x_{i,k}$ bei ansonsten konstanten\n",
        "Bedingungen liefern die Wahrscheinlichkeitsverteilung und somit $u(x_i)$\n",
        "```math\n",
        "u(x_i) = \\sqrt{\\frac{1}{n -1}  \\, \\sum_{k= 1}^{n} \\left( x_{i,k} - \\bar{x_i} \\right)^2} \n",
        "\\quad \\text{mit} \\quad \n",
        "\\bar{x_i}= \\frac{1}{n}  \\, \\sum_{k= 1}^{n}  x_{i,k}\n",
        "```\n",
        "Ebenso liefert die\n",
        "lineare Regression oder andere Methoden der kleinsten Quadrate eine\n",
        "Standard-Abweichung und somit die Messunsicherheit.\n"
      ]
    },
    {
      "cell_type": "markdown",
      "metadata": {},
      "source": [
        "\n",
        "##### Typ B: Wahrscheinlichkeitsverteilung aus anderen Quellen\n",
        "Unsicherheiten vom Typ B sind nicht über statistische Methoden\n",
        "zugänglich. Beispiele sind die endliche Auflösung einer Waage oder die\n",
        "tabellierte Messunsicherheit eines Multimeters. In diesen Fällen\n",
        "bestimmt man die Spannung über einem Widerstand eben nicht mit 10\n",
        "verschiedenen Multimetern und benutzt dann Statistik, um Aussagen zu\n",
        "treffen, sondern man benutzt aufgeschriebene, dokumentierte Angaben zur\n",
        "Unsicherheit. Diese Art Unsicherheit beschreibt nicht das Ergebnis von\n",
        "Abzähl-Prozessen, sondern unser Nicht-Wissen über den 'wahren' Wert.\n",
        "Natürlich liegt dieser aufgeschriebenen Unsicherheit ein Messprozess,\n",
        "eine Kalibration zu grunde, die aber nicht von uns, sondern vom\n",
        "Hersteller durchgeführt wurde. Das Erstellen des Datenblatts durch den\n",
        "Hersteller verwandelt also Typ A Unsicherheiten in Typ B Unsicherheiten.\n",
        "Das Ziel des GUM ist, dies so zu gestalten, dass beide Arten von\n",
        "Unsicherheiten später wieder miteinander verrechnet werden können.\n",
        "\n",
        "Typische andere Quellen sind Datenblätter, Kalibrationsdokumente, aber\n",
        "auch Fachkenntnis. Aus diesen wird dann die Standard-Messunsicherheit\n",
        "berechnet.\n"
      ]
    },
    {
      "cell_type": "markdown",
      "metadata": {},
      "source": [
        "\n",
        "Idealerweise ist die vollständige **Wahrscheinlichkeitsverteilung\n",
        "angegeben**, die der Hersteller eines Geräts sicherlich im\n",
        "Kalibrationsprozess einmal ermittelt hat. In diesem Fall berechnen wir\n",
        "die Standard-Messunsicherheit als Standard-Abweichung dieser Verteilung.\n"
      ]
    },
    {
      "cell_type": "markdown",
      "metadata": {},
      "source": [
        "\n",
        "Das **Überdeckungsintervall** $[-a, a]$ (auch Konfidenzintervall) gibt einen Bereich an, in dem der\n",
        "'wahre' Wert mit angegebener Wahrscheinlichkeit (meist 95%) zu finden\n",
        "ist (siehe letztes Kapitel).\n",
        "Hier ermitteln wir daraus die Standard-Messunsicherheit, indem wir eine\n",
        "Normalverteilung annehmen. Im Fall eines 95%-Intervalls ($2 \\sigma$)\n",
        "beträgt sie $u = a /2$.\n"
      ]
    },
    {
      "cell_type": "markdown",
      "metadata": {},
      "source": [
        "\n",
        "Bei manchen Geräten, beispielsweise Multimetern, ist eine **Toleranz** in\n",
        "der Form $a = n$ digits $+ x$% des Vollausschlags angegeben. Der 'wahre'\n",
        "Wert sollte also in einem Intervall der Breite $[-a, a]$ liegen. Solch\n",
        "eine rechteckige Verteilung hat die Standard-Abweichung\n",
        "$u = a / \\sqrt{3}$.\n"
      ]
    },
    {
      "cell_type": "markdown",
      "metadata": {},
      "source": [
        "\n",
        "**Ablesen digitaler Anzeigen:**\n",
        "Selbst wenn keine Toleranz angegeben ist, so gilt doch mindestens\n",
        "$a = 0.5$ digits, da keine Aussage über nicht dargestellte Stellen\n",
        "gemacht werden kann. Somit wird hier ebenfalls $u = a / \\sqrt{3}$.\n"
      ]
    },
    {
      "cell_type": "markdown",
      "metadata": {},
      "source": [
        "\n",
        "**Fachkenntnis:**\n",
        "Das Zählen einzelner Ereignisse, beispielsweise die Anzahl Photonen in\n",
        "einem Lichtstrahl, liefert oft eine Poisson-Verteilung. Bei einem\n",
        "Mittelwert von $\\lambda$ ist in diesem Fall die\n",
        "Standard-Messunsicherheit $u = \\sqrt{\\lambda}$.\n"
      ]
    },
    {
      "cell_type": "markdown",
      "metadata": {},
      "source": [
        "\n",
        "##### Kombination von Typ A und Typ B\n",
        "\n",
        "Man sollte auch prüfe, ob nicht beide Quellen A und B zur\n",
        "Messunsicherheit beitragen. Wenn beispielsweise die Standard-Abweichung\n",
        "aus mehreren Messungen nach Typ A bestimmt wird, jede Einzelmessung aber\n",
        "eine nicht zu vernachlässigende Messunsicherheit nach Typ B hat. In\n",
        "diesem Fall addieren sich die Varianzen. Für die\n",
        "Standard-Messunsicherheit gilt also\n",
        "```math\n",
        "u_{\\text{gesamt}} = \\sqrt{ u_{A}^2  + u_{B}^2 } \\quad .\n",
        "```\n",
        "Als\n",
        "Daumenregel kann man annehmen, dass dieser Fall relevant wird, wenn das\n",
        "Verhältnis der beiden Messunsicherheiten kleiner als drei ist.\n"
      ]
    },
    {
      "cell_type": "markdown",
      "metadata": {},
      "source": [
        "\n",
        "##### Unsicherheit der Einzelmessung oder des Mittelwerts\n",
        "\n",
        "An dieser Stelle können wir jetzt auch diskutieren, ob bei der\n",
        "Messunsicherheit nach Typ A eigentlich die Unsicherheit der\n",
        "Einzelmessung $u_{\\text{einzel}}$ oder die des Mittelwerts aus $n$\n",
        "Messungen, also $u_{\\text{mittel}} = u_{\\text{einzel}} / \\sqrt{n}$,\n",
        "relevant ist.\n",
        "\n",
        "Mit der Reduktion der Messunsicherheit über Mittelwertbildung muss man\n",
        "sehr vorsichtig sein. Sie verlangt, dass alle einzelnen Messungen\n",
        "unabhängig voneinander sind. Dies ist beispielsweise nicht mehr der\n",
        "Fall, wenn eine Drift die gesamte Messung überlagert, oder die einzelnen\n",
        "Messungen schneller erfolgte, als die Messbandbreite erlaubt. Selbst im\n",
        "idealen Fall reduziert die Mittelwertbildung zwar die Unsicherheit nach\n",
        "Typ A, aber nicht die nach Typ B, so dass irgendwann Typ B überwiegt.\n"
      ]
    },
    {
      "cell_type": "markdown",
      "metadata": {},
      "source": [
        "\n",
        "## Empfindlichkeits-Koeffizienten\n",
        "\n",
        "Um den Einfluss der Messunsicherheit der Eingangswerte auf den\n",
        "Ausgangswert zu ermitteln, betrachtet man die partielle Ableitung der\n",
        "Messfunktion $Y = f(X_1, ... , X_n)$ nach den 'wahren' Werten $X_i$ an\n",
        "der Stelle des Schätzwerts der Eingangswerte $x_i$. Man entwickelt also\n",
        "$f$ in einer Taylor-Reihe und bricht diese bereits nach dem ersten Glied\n",
        "ab. Man linearisiert also $f$ in der Nähe der $x_i$. Die einzelnen\n",
        "Koeffizienten dieser Taylor-Reihe, die partiellen Ableitungen, werden in\n",
        "diesem Zusammenhang Empfindlichkeits-Koeffizienten genannt\n",
        "```math\n",
        "c_i = \\left. \\frac{\\partial f(X_1, ... , X_n) }{\\partial X_i} \\right|_{X_1 = x_1, ... , X_n = x_n} \\quad .\n",
        "```\n",
        "Es ist hilfreich, die Größenordnung der Produkte aus Messunsicherheit\n",
        "$u(x_i)$ und Empfindlichkeits-Koeffizient $c_i$, also $|c_i| u(x_i)$, zu\n",
        "betrachten. Im idealen Fall sind diese alle von gleicher Größenordnung.\n",
        "Wenn nicht, dann lohnt es sich, Arbeit in den größten Term zu\n",
        "investieren. Entweder um dort die Messunsicherheit $u(x_i)$ zu\n",
        "reduzieren, oder das Messverfahren so zu ändern, dass sich $f$ so\n",
        "ändert, dass $|c_i|$ kleiner wird. Der relative Beitrag von\n",
        "$|c_i| u(x_i)$, also \n",
        "```math\n",
        "\\frac{|c_i| u(x_i)}{\\sum_k |c_k| u(x_k)}\n",
        "```\n",
        "wird\n",
        "Messunsicherheits-Budget genannt.\n"
      ]
    },
    {
      "cell_type": "markdown",
      "metadata": {},
      "source": [
        "\n",
        "## Standard-Messunsicherheit des Ergebnisses\n",
        "\n",
        "Die Standard-Messunsicherheit des Ergebnisses ergibt sich analog der\n",
        "Gauss'schen Fehlerfortpflanzung zu\n",
        "```math\n",
        "u(y) = \\sqrt{ \\left( c_1 u(x_1) \\right)^2  + ... +  \\left( c_n u(x_n) \\right)^2    }\n",
        " \\quad .\n",
        "```\n"
      ]
    },
    {
      "cell_type": "markdown",
      "metadata": {},
      "source": [
        "\n",
        "# Bonus: Überdeckungsintervall\n",
        "\n",
        "Bis hier hin haben wir einen Schätzwert für den\n",
        "Ausgangswert $y$ der Messung sowie für seine Standard-Messunsicherheit\n",
        "$u(y)$ ermittelt. Die Frage ist jetzt, welche Aussage wir über den\n",
        "'wahren' Wert $Y$ machen können. Das Ziel ist es, ein Intervall\n",
        "anzugeben, in dem der 'wahre' Wert $Y$ mit einer bestimmten\n",
        "Wahrscheinlichkeit liegt. Dieses Intervall wird Überdeckungsintervall oder Konfidenzintervall\n",
        "genannt.\n",
        "\n",
        "\n",
        "![workflow ausf](https://raw.githubusercontent.com/MarkusLippitz/teca/main/res/04-Messunsicherheit/workflow_ausf.png \"Schema zur Bestimmung des Überdeckungsintervalls  nach GUM, aus JCGM104:2009, dt. Der linke obere Bereich wurde schon im vorangegangenen Abschnitt besprochen\")\n",
        "\n",
        "\n",
        "*Schema zur Bestimmung des Überdeckungsintervalls  nach GUM, aus JCGM104:2009, dt. Der linke obere Bereich wurde schon im vorangegangenen Abschnitt besprochen*"
      ]
    },
    {
      "cell_type": "markdown",
      "metadata": {},
      "source": [
        "\n",
        "Das Problem ist, dass wir insbesondere von der Messunsicherheit $u(y)$\n",
        "nur einen Schätzwert haben. Dass $y$ nur ein Schätzwert von $Y$ ist,\n",
        "stellt kein Problem dar, denn wir kennen die\n",
        "Wahrscheinlichkeitsverteilung des Abstandes $y - Y$. Diese Abstand ist\n",
        "normalverteilt\n",
        "```math\n",
        "\\frac{y - Y}{\\sigma  /\\sqrt{n}} = \\mathcal{N}(0,1) \\quad .\n",
        "```\n",
        "Dies\n",
        "setzt aber voraus, dass man den 'wahren' Wert der Standardabweichung\n",
        "$\\sigma$ kennt. $n$ bezeichnet hier die Anzahl der Werte, aus denen $y$\n",
        "ermittelt wurde.\n"
      ]
    },
    {
      "cell_type": "markdown",
      "metadata": {},
      "source": [
        "\n",
        "Falls statt dem 'wahren' Wert $\\sigma$ nur der Schätzwert $u(y)$ bekannt\n",
        "ist, dann folgt der normierte Abstand $y-Y$ einer Student'sche\n",
        "t-Verteilung, die im Grenzwert großer $n$ in die Normalverteilung\n",
        "übergeht \n",
        "```math\n",
        "\\frac{y - Y}{u(y)  /\\sqrt{n}} = t_n  \\quad \n",
        " \\overset{n \\rightarrow \\infty}{\\longrightarrow} \\quad\n",
        " \\mathcal{N}(0,1) \\quad .\n",
        "```\n",
        "Die Student'sche t-Verteilung besitzt die\n",
        "Wahrscheinlichkeitsdichte\n",
        "```math\n",
        "t_n(x) = \\alpha \\left(1 + \\frac{x^2}{n} \\right)^{- (n+1)/2}\n",
        "```\n",
        "wobei\n",
        "der Faktor $\\alpha$ die Normierung sicherstellt. Für kleine $n$ ist sie breiter als die Normalverteilung. Diese Verteilung wird\n",
        "es uns ermöglichen, ein Überdeckungsintervall anzugeben.\n",
        "\n"
      ]
    },
    {
      "cell_type": "code",
      "execution_count": 42,
      "metadata": {},
      "outputs": [
        {
          "data": {
            "image/png": "[encoded data removed]",
            "text/plain": [
              "<Figure size 640x480 with 1 Axes>"
            ]
          },
          "metadata": {},
          "output_type": "display_data"
        }
      ],
      "source": [
        "import numpy as np\n",
        "import matplotlib.pyplot as plt\n",
        "from scipy.stats import t, norm\n",
        "\n",
        "x = np.linspace(-5, 5, 100)\n",
        "plt.plot(x, t.pdf(x, 1), label=\"n=1\")\n",
        "plt.plot(x, t.pdf(x, 3), label=\"n=3\")\n",
        "plt.plot(x, t.pdf(x, 10), label=\"n=10\")\n",
        "plt.plot(x, t.pdf(x, 100), label=\"n=100\")\n",
        "plt.scatter(x, norm.pdf(x), label=\"normal\", s=20)\n",
        "plt.xlabel(\"x\")\n",
        "plt.ylabel(\"Wahrscheinlichkeitsdichte\")\n",
        "plt.title(\"Student'sche t-Verteilung\")\n",
        "plt.legend()\n",
        "plt.show()"
      ]
    },
    {
      "cell_type": "markdown",
      "metadata": {},
      "source": [
        "\n",
        "\n",
        "## Freiheitsgrade\n",
        "\n",
        "Der Freiheitsgrad $\\nu_i$ beschreibt die Anzahl an Einzelmessungen, die\n",
        "zu einem Schätzwert $x_i$ eines Eingangswerts $X_i$ beigetragen haben.\n",
        "Er ist ein Maß für das Vertrauen in die Schätzung der\n",
        "Standard-Messunsicherheit $u(x_i)$.\n"
      ]
    },
    {
      "cell_type": "markdown",
      "metadata": {},
      "source": [
        "\n",
        "Für Messunsicherheiten vom *Typ A* gilt\n",
        "```math\n",
        "\\nu_i = \\text{<Anzahl Messungen>} - \\text{<Anzahl ermittelte Parameter>}  \\quad .\n",
        "```\n",
        "Wenn aus $n$ Messungen der Schätzwert $x_i$ als Mittelwert berechnet\n",
        "wurde, so ist $\\nu_i = n -1$. Damit ist $\\nu_i = 0$, falls nur ein Wert\n",
        "gemessen wurde. Bei einer lineare Regression werden beispielsweise\n",
        "Steigung und Achsenabschnitt ermittelt, also zwei\n",
        "Parameter bestimmt. Wenn nun $x_i$ aus der Steigung bestimmt wird, so\n",
        "ist $\\nu_i = n -2$, da die Information aus einer weiteren Messung schon\n",
        "für den Achsenabschnitt verwendet wurde.\n"
      ]
    },
    {
      "cell_type": "markdown",
      "metadata": {},
      "source": [
        "Für Messunsicherheiten vom *Typ B* ist manchmal die mit dieser\n",
        "Unsicherheit verknüpften Anzahl an Freiheitsgraden $\\nu$ ebenfalls\n",
        "tabelliert. Wenn das nicht der Fall ist, dann lässt sich Überlegungen\n",
        "zur Varianz der Varianz einer Normalverteilung folgende Beziehung\n",
        "herleiten\n",
        "```math\n",
        "\\nu_i = \\frac{1}{2} \\left( \\frac{\\Delta u(x_i)}{u(x_i)} \\right)^{-2}\n",
        "```\n",
        "wobei $\\Delta u(x_i)$ die Unsicherheit in der Unsicherheit des\n",
        "Eingangswerts $x_i$ bezeichnet. $\\Delta u(x_i)$ ergibt sich\n",
        "beispielsweise aus der Anzahl der dargestellten Stellen bei tabellierten\n",
        "$u(x_i)$. Oder man nimmt an, dass das bei einem Multimeter angegeben\n",
        "Toleranz-Intervall so groß ist, dass außerhalb liegende Werte praktisch\n",
        "unmöglich sind. In diesem Fall ist die die Unsicherheit exakt bekannt,\n",
        "damit $\\Delta u(x_i) = 0$ und $\\nu_i = \\infty$. Dies stellt kein Problem\n",
        "dar."
      ]
    },
    {
      "cell_type": "markdown",
      "metadata": {},
      "source": [
        "## Effektive Freiheitsgrade\n",
        "\n",
        "Wir kennen nun die Freiheitsgrade $\\nu_i$ der Eingangsgrößen. Wir\n",
        "benötigen aber die Freiheitsgrade der Ausgangsgröße bzw. ihrer\n",
        "Messunsicherheit, um den Faktor in der Student'schen t-Verteilung einzusetzen. Die **Welch-Satterthwaite-Gleichung** liefert eine\n",
        "Abschätzung für die effektive Anzahl an Freiheitsgraden\n",
        "$\\nu_{\\text{eff}}$, die der Messunsicherheit $u(y)$ des Ausgangsgröße\n",
        "$y$ zugeordnet werden kann:\n",
        "```math\n",
        "\\nu_{\\text{eff}} = \\frac{u(y)^4}{\\sum_{i=1}^n \\frac{c_i^4 \\, u(x_i)^4}{\\nu_i}}\n",
        "\\ll \\sum_{i=1}^n \\nu_i\n",
        " \\quad  .\n",
        "```\n",
        "Dabei wird $\\nu_{\\text{eff}}$ auf die nächste ganze Zahl\n",
        "abgerundet. Wenn eine Eingangsgröße $x_k$ entweder eine große\n",
        "Standard-Messunsicherheit $c_k \\, u(x_k)$ besitzt oder eine kleine Anzahl\n",
        "Freiheitsgrade $\\nu_k$ oder beides, dann dominiert diese Größe die\n",
        "Anzahl der effektiven Freiheitsgrade $\\nu_{\\text{eff}} \\approx \\nu_k$."
      ]
    },
    {
      "cell_type": "markdown",
      "metadata": {},
      "source": [
        "## Überdeckungswahrscheinlichkeit\n",
        "\n",
        "Man muss sich für eine Wahrscheinlichkeit entscheiden, mit der der\n",
        "'wahre' Wert in dem Überdeckungsintervall liegen soll. Typische Werte\n",
        "sind verknüpft mit den Integralen über die Normalverteilung innerhalb\n",
        "einer $\\pm k \\cdot \\sigma$ Umgebung, oder gerundete Werte davon. Am\n",
        "häufigsten findet sich das 95% Intervall.\n",
        "\n",
        "\n",
        "| $k$ |  $P$    |  |   $P$  | $k$|\n",
        "|:--- | :-------|:--- |-----: | :----- |\n",
        "| 1   |  68.27    |  | 66  |  0.954 | \n",
        "|  2  |   95.45    | | 95  |  1.960 |\n",
        "|  3  |   99.73    |  | 99  |  2.576 |\n",
        "\n",
        "*Wahrscheinlichkeit $P$ in Prozent, bei einer Normalverteilung\n",
        "  innerhalb einer $k \\sigma$ Umgebung zu liegen. Das 95% Intervall mit\n",
        "  $k=1.96$ ist am weitesten verbreitet.*\n"
      ]
    },
    {
      "cell_type": "code",
      "execution_count": 43,
      "metadata": {},
      "outputs": [
        {
          "data": {
            "text/plain": [
              "[0.683, 0.954, 0.997]"
            ]
          },
          "execution_count": 43,
          "metadata": {},
          "output_type": "execute_result"
        }
      ],
      "source": [
        "k = [1, 2, 3]\n",
        "P = [round(norm.cdf(s) - norm.cdf(-s), 3) for s in k]\n",
        "P"
      ]
    },
    {
      "cell_type": "code",
      "execution_count": 44,
      "metadata": {},
      "outputs": [
        {
          "data": {
            "text/plain": [
              "[0.954, 1.96, 2.576]"
            ]
          },
          "execution_count": 44,
          "metadata": {},
          "output_type": "execute_result"
        }
      ],
      "source": [
        "p = [66, 95, 99]\n",
        "k = [round(-norm.ppf((1 - q / 100) / 2), 3) for q in p]\n",
        "k"
      ]
    },
    {
      "cell_type": "markdown",
      "metadata": {},
      "source": [
        "\n",
        "## Erweiterungsfaktor\n",
        "\n",
        "Der Erweiterungsfaktor $k$ bestimmt die Grenzen des\n",
        "Überdeckungsintervalls, in dem der 'wahre' Wert mit der gewünschten\n",
        "Wahrscheinlichkeit zu finden ist. Das Intervall hat dann die Form\n",
        "$[y - k \\cdot u(y), y + k \\cdot u(y)]$. Der Wert von $k$ ergibt sich aus\n",
        "dem Integral über die Student'sche t-Verteilung, so dass\n",
        "```math\n",
        "\\int_{- k}^{+ k} t_\\nu(x) \\, dx = \\text{gewünschte Wahrscheinlichkeit} \\quad .\n",
        "```\n",
        "Diese Wert hängt natürlich von der Anzahl $\\nu_{\\text{eff}}$ der\n",
        "effektiven Freiheitsgrade ab, die in die Messung eingeflossen sind. Für\n",
        "sehr großes $\\nu_{\\text{eff}}$ nimmt $k$ die bekannten Werte aus der\n",
        "Normalverteilung an. Hier ein paar Werte für $k$ bei einem 95%-Intervall\n"
      ]
    },
    {
      "cell_type": "code",
      "execution_count": 45,
      "metadata": {},
      "outputs": [
        {
          "name": "stdout",
          "output_type": "stream",
          "text": [
            "[12.706, 4.303, 3.182, 2.776, 2.571, 2.228, 2.086, 1.96]\n"
          ]
        }
      ],
      "source": [
        "nu = [1, 2, 3, 4, 5, 10, 20, 1e10]\n",
        "p = 95\n",
        "k = [round(-t.ppf((1 - p / 100) / 2, df=n),3) for n in nu]\n",
        "print(k)"
      ]
    },
    {
      "cell_type": "markdown",
      "metadata": {},
      "source": [
        "\n",
        "## Erweiterte Messunsicherheit\n",
        "\n",
        "Die erweiterte Messunsicherheit ist die Standard-Messunsicherheit $u(y)$\n",
        "multipliziert mit dem Erweiterungsfaktor $k$\n",
        "$$U = k \\cdot u(y) \\quad .$$\n"
      ]
    },
    {
      "cell_type": "markdown",
      "metadata": {},
      "source": [
        "\n",
        "## Überdeckungsintervall\n",
        "\n",
        "Das Überdeckungsintervall beträgt $[y \\pm U]$ =\n",
        "$[y - k \\cdot u(y), y + k \\cdot u(y)]$. Der 'wahre' Werte $Y$ liegt in\n",
        "diesem Intervall mit der oben festgelegten Wahrscheinlichkeit.\n"
      ]
    }
  ],
  "metadata": {
    "kernelspec": {
      "display_name": "base",
      "language": "python",
      "name": "python3"
    },
    "language_info": {
      "codemirror_mode": {
        "name": "ipython",
        "version": 3
      },
      "file_extension": ".py",
      "mimetype": "text/x-python",
      "name": "python",
      "nbconvert_exporter": "python",
      "pygments_lexer": "ipython3",
      "version": "3.8.18"
    }
  },
  "nbformat": 4,
  "nbformat_minor": 2
}
