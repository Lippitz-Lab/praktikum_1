{
 "cells": [
  {
   "cell_type": "markdown",
   "id": "4092e6d2",
   "metadata": {},
   "source": [
    "# Absolute Temperatur aus pV"
   ]
  },
  {
   "cell_type": "markdown",
   "id": "38284a81",
   "metadata": {},
   "source": [
    "Zunächst importieren wir alle benötigten Bibliotheken"
   ]
  },
  {
   "cell_type": "code",
   "execution_count": null,
   "id": "b45cd9c6",
   "metadata": {},
   "outputs": [],
   "source": [
    "import numpy as np\n",
    "import matplotlib.pyplot as plt\n",
    "import pandas as pd"
   ]
  },
  {
   "cell_type": "markdown",
   "id": "6d1a894b",
   "metadata": {},
   "source": [
    "## Schritt 1: Laden der Daten"
   ]
  },
  {
   "cell_type": "markdown",
   "id": "f365fd8a",
   "metadata": {},
   "source": [
    "Laden Sie Ihre Daten aus Pasco"
   ]
  },
  {
   "cell_type": "code",
   "execution_count": null,
   "id": "81555bdb",
   "metadata": {},
   "outputs": [],
   "source": [
    "# Ihr code hier"
   ]
  },
  {
   "cell_type": "markdown",
   "id": "322d6988",
   "metadata": {},
   "source": [
    "## Schritt 2a: Vereinigen des Datensatzes\n",
    "\n",
    "Wir benötigen zwei Arrays für `T` und `p`.\n",
    "\n",
    "Je nachdem, wie Sie Pasco benutzt haben, sind die Messungen aber auf mehrere Spalten verteilt. Diese führen wir nun zusammen. Das geht am einfachsten mit etwas wie: `data.iloc[: , 1]`.\n",
    "\n",
    "Lassen Sie mich das erklären. Mit `iloc` greift man auf Einträge eines DataFrames über ihren Index zu. In eckigen Klammern folgen zwei durch Komma getrennte Zahlen: die Zeile und die Spalte, jeweils beginnend bei Null.\n",
    "\n",
    "Es gibt noch ein paar Tricks: Ein Doppelpunkt ohne weitere Zahlen bedeutet „alles”, also in diesem Fall die ganze Spalte. Ein Doppelpunkt zwischen zwei Zahlen (z. B. „3:7”) meint alles zwischen 3 und 7, also 3, 4, 5, 6 und 7. Das Beispiel liefert also die Spalte Nummber 1, also die zweite Spalte.\n",
    "\n",
    "\n",
    " `data.iloc[: , 1].values` konvertiert die DataFrames-Tabelle in ein Array von Zahlen, mit dem wir weiter arbeiten können.\n",
    "\n",
    " Dann brauchen wir noch eine Schleife über alle Spalten, die wir haben wollen. Das geht mit der Konstruktion `[ Funktion(Wert) for Wert in Liste]`. Beachten Sie die eckigen Klammern. Das erzeugt eine Liste in der nacheinander alle Werte von `Liste` als `Wert` in die Funktion eingesetzt werden. Beispiel: `[data.iloc[:, i].values for i in [1, 4, 7]]` erzeugt eine Liste deren Einträge aus den Spalten 1, 4 und 7 besteht.\n",
    "\n",
    " Schließlich müssen wir die Arrays noch hintereinander zusammenfügen. Das geht mit `np.concatenate`.\n",
    "\n",
    " Ingesamt brauchen wir also \n",
    " `T = np.concatenate([data.iloc[:, i].values for i in [1, 4, 7]])`\n",
    "wobei sie die Zahlen 1,4,7 an ihre Spaltennummer (beginnend bei Null) anpassen müssen. Und analog für den Druck `p`\n",
    "\n"
   ]
  },
  {
   "cell_type": "code",
   "execution_count": null,
   "id": "d14e691e",
   "metadata": {},
   "outputs": [],
   "source": [
    "# Ihr code hier"
   ]
  },
  {
   "cell_type": "markdown",
   "id": "64d24414",
   "metadata": {},
   "source": [
    "## Schritt 2b: Umbenennen / Kopieren der Spalten\n",
    "\n",
    "Falls Sie Pasco die ganze Zeit haben aufzeichnen lassen, Ihr Datensatz also für $T$ und $p$ nur je eine einzige Spalte beinhaltet, dann können Sie diese einfach den Variablen zuweisen, via `T = datat.iloc[:,2].values` für die 3. Spalte."
   ]
  },
  {
   "cell_type": "code",
   "execution_count": null,
   "id": "fc7d9923",
   "metadata": {},
   "outputs": [],
   "source": [
    "# Ihr code hier"
   ]
  },
  {
   "cell_type": "markdown",
   "id": "43970075",
   "metadata": {},
   "source": [
    "## Schritt 3: Plotten der Daten als Punktwolke. \n",
    "\n",
    "Mit `plt.scatter(T,p, marker='o', s=2)` können Sie die Daten als Punktwolke darstellen lassen. Der Parameter `s` bestimmt die Größe der Symbole. Beschriften Sie die Achsen.\n"
   ]
  },
  {
   "cell_type": "code",
   "execution_count": null,
   "id": "b4842577",
   "metadata": {},
   "outputs": [],
   "source": [
    "# Ihr code hier"
   ]
  },
  {
   "cell_type": "markdown",
   "id": "7f81a019",
   "metadata": {},
   "source": [
    "## Schritt 4: Bereinigen der Daten\n",
    "\n",
    "Pasco markiert fehlende Einträge mit „NaN” (Not a Number). Dies ist beispielsweise der Fall, wenn ein Sensor eine höhere Datenrate liefert als der andere oder eine Messung weniger Punkte umfasst. Beim Plotten stört das nicht. Einträge, die ein „NaN” enthalten, werden einfach nicht angezeigt. Beim Rechnen ist dies problematisch, da Summen dann ebenfalls „NaN” sind. Daher müssen wir alle Einträge entfernen, bei denen entweder der Temperatur- oder der Druckwert fehlt.\n",
    "\n",
    "Die „guten” Werte finden wir mit `guteWerte = ~np.isnan(T) & ~np.isnan(p)`. Das `~` negiert und `&` ist ein logisches Und. Gute Werte sind also (kein „NaN” in T) und (kein „NaN” in p). Die Indizes dieser Werte speichern wir. Dann können wir via\n",
    "        `T = T[guteWerte]` die guten Werte herausfiltern und nur mit diesen weiterarbeiten. Das Gleiche gilt für p.\n",
    "\n",
    "Nebenbemerkung: `guteWerte` ist ein Array vom Typ Boolean, das nur die Werte „True” und „False” annehmen kann. Auch mit einem solchen Array kann man ein anderes Array indizieren, und nicht nur mit einer Liste von Indizes.\n",
    "\n",
    "Bereinigen Sie Ihre Messwerte also auf diese Weise."
   ]
  },
  {
   "cell_type": "code",
   "execution_count": null,
   "id": "35dd92ca",
   "metadata": {},
   "outputs": [],
   "source": [
    "# Ihr code hier"
   ]
  },
  {
   "cell_type": "markdown",
   "id": "be592f24",
   "metadata": {},
   "source": [
    "## Schitt 5: Fitten einer Geraden\n",
    "\n",
    "Benutzen Sie das in Kapitel 2 gezeigte Verfahren, um eine Gerade der Form `y =a + b * T` an die Druck-Werte anzupassen. Berechnen Sie also die am besten passende Werte für `a` und `b` und daraus den Wert $T_0$, bei dem die Gerade die x-Achse schneidet. Dies ist dann Ihr Wert für den absoluten Tempeartur-Nullpunkt. "
   ]
  },
  {
   "cell_type": "code",
   "execution_count": null,
   "id": "34f4f2c7",
   "metadata": {},
   "outputs": [],
   "source": [
    "# Ihr code hier"
   ]
  },
  {
   "cell_type": "markdown",
   "id": "148eb655",
   "metadata": {},
   "source": [
    "## Schritt 5: Plotten der Daten mit Geraden\n",
    "\n",
    "Erstellen Sie einen neuen Graphen, ähnlich wie in Schitt 3, nur nun zusammen mit der Ausgleichsgeraden."
   ]
  },
  {
   "cell_type": "code",
   "execution_count": null,
   "id": "6464fd1d",
   "metadata": {},
   "outputs": [],
   "source": [
    "# Ihr code hier"
   ]
  },
  {
   "cell_type": "markdown",
   "id": "d44476d8",
   "metadata": {},
   "source": [
    "## Schitt 6: Abweichung zwischen Modell und Daten\n",
    "\n",
    "Plotten Sie die Abweichung zwiscen Modell und Daten als Punktwolke $\\Delta p = p_{gemessen} - p_{modell}$ über $T$."
   ]
  },
  {
   "cell_type": "code",
   "execution_count": null,
   "id": "390ee505",
   "metadata": {},
   "outputs": [],
   "source": [
    "# Ihr code hier"
   ]
  },
  {
   "cell_type": "markdown",
   "id": "f075383b",
   "metadata": {},
   "source": [
    "## Schitt 7: Unsicherheit der Absoluten Nullpunkt-Temperatur\n",
    "\n",
    "Berechnen Sie die Unsicherheit der Geradenparameter $a$ und $b$ sowie die daraus resultierende Unsicherheit in $T_0$, wie in Kapitel 2 gezeigt."
   ]
  },
  {
   "cell_type": "code",
   "execution_count": null,
   "id": "f29f6630",
   "metadata": {},
   "outputs": [],
   "source": [
    "# Ihr code hier"
   ]
  },
  {
   "cell_type": "markdown",
   "id": "ace1c70d",
   "metadata": {},
   "source": [
    "## Schritt 8: Mittelung des Druck-Sensors\n",
    "\n",
    "Die Auflösung des Drucksensors ist eher gering, dafür ist seine Datenrate tendenziell höher. Wenn Sie so gemessen haben, dass deutlich mehr p- als T-Werte vorliegen, ist das Wegwerfen der zusätzlichen p-Werte, wie oben angewandt, suboptimal. Sie könnten beispielsweise zehn aufeinanderfolgende Druckwerte mitteln. Das ist jedoch nicht notwendig, wenn Sie immer nur Paare von Werten haben, da beim Berechnen der Geraden bereits ausreichend gemittelt wird.\n",
    "\n",
    "Sollten Sie also mitteln wollen, geht das mit `p  = np.convolve(p, np.ones(10)/10, mode='same')`. Dabei wird über zehn Werte gemittelt, d. h., es wird mit einem Rechteck der Breite 10 und der Höhe 1/10 (also Fläche 1) gefaltet.\n",
    "\n",
    "Wenden Sie diese Verbesserung vor Schritt 4 („Bereinigen der Werte”) an. Bitte beachten Sie, dass der Kernel sich alte Ergebnisse merkt. Sie müssen daher ggf. manches noch einmal ausführen."
   ]
  },
  {
   "cell_type": "code",
   "execution_count": null,
   "id": "dcc8c63e",
   "metadata": {},
   "outputs": [],
   "source": [
    "# Ihr code ggf. hier "
   ]
  },
  {
   "cell_type": "markdown",
   "id": "30ac3c2e",
   "metadata": {},
   "source": [
    "## Schritt 9: Temperatur-Gleichgewicht\n",
    "\n",
    "Oft sind Probe und Temperatursensor nicht im Gleichgewicht. Es kann das Ergebnis also verbessern, wenn man diese Werte entfernt, da Druck und Temperatur dort nicht zusammenpassen.\n",
    "\n",
    "Zunächst müssen wir diese Werte ermitteln. Dazu ist es hilfreich, den zeitlichen Verlauf von p und T in einem Diagramm mit zwei separaten y-Achsen darzustellen. Bei einem idealen linearen Zusammenhang zwischen p und T würden diese beiden Kurven übereinanderliegen.\n",
    "\n",
    "Das ist etwas aufwändig und erfordert ggf. Google oder eine KI. Darum hier ein Gerüst."
   ]
  },
  {
   "cell_type": "code",
   "execution_count": null,
   "id": "9b237f82",
   "metadata": {},
   "outputs": [],
   "source": [
    "# Code vom ChatGPT\n",
    "fig, ax1 = plt.subplots()   # Create a figure and axis\n",
    "\n",
    "x = np.arange(len(p))  # common x-axis (Datenpunkt Nr)\n",
    "\n",
    "line1 = ax1.scatter(x,p, s=1, color='b', label='Druck')   # Plot data on primary y-axis\n",
    "ax1.set_xlabel('Datenpunkt Nr')\n",
    "ax1.set_ylabel('Druck (kPa)', color='b')\n",
    "\n",
    "ax2 = ax1.twinx()  # Create a second y-axis sharing the same x-axis\n",
    "line2 = ax2.scatter(x,T, s=1, color='r', label='Temperatur') # Plot data on secondary y-axis\n",
    "ax2.set_ylabel('Temperatur (deg C)', color='r')\n",
    "\n",
    "# Combine legends from both axes\n",
    "lines = [line1, line2]\n",
    "labels = [line.get_label() for line in lines]\n",
    "ax1.legend(lines, labels, loc='upper right')\n",
    "\n",
    "plt.show()"
   ]
  },
  {
   "cell_type": "markdown",
   "id": "0b33e8f9",
   "metadata": {},
   "source": [
    "Dann könnte man eine Liste `behalten` anlegen. Diese steht zunächst vollständig auf „true” und einige Werte werden anschließend auf „false” gesetzt. Mit dieser Liste können sowohl P als auch T ausgestanzt werden. Anschließend kann alles wie oben beschrieben angewendet werden.\n",
    "\n",
    "```python\n",
    "behalten = np.ones(len(p), dtype=bool)\n",
    "behalten[600:700] = False\n",
    "p = p[behalten]\n",
    "T = T[behalten]\n",
    "```"
   ]
  },
  {
   "cell_type": "code",
   "execution_count": null,
   "id": "8f08de82",
   "metadata": {},
   "outputs": [],
   "source": [
    "# hier Ihr Code "
   ]
  }
 ],
 "metadata": {
  "kernelspec": {
   "display_name": "base",
   "language": "python",
   "name": "python3"
  },
  "language_info": {
   "codemirror_mode": {
    "name": "ipython",
    "version": 3
   },
   "file_extension": ".py",
   "mimetype": "text/x-python",
   "name": "python",
   "nbconvert_exporter": "python",
   "pygments_lexer": "ipython3",
   "version": "3.8.18"
  }
 },
 "nbformat": 4,
 "nbformat_minor": 5
}
