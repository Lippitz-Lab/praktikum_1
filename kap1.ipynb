{
 "cells": [
  {
   "cell_type": "markdown",
   "id": "d7805e9d-8d28-4cd4-8b36-270d5c9ceaef",
   "metadata": {},
   "source": [
    "# Kapitel 1: Grundlagen\n",
    "\n",
    "Autoren: Markus Lippitz, Thorsten Schumacher, unter Verwendung von Material von  Eugenio Tufino und Micol Alemani\n"
   ]
  },
  {
   "cell_type": "markdown",
   "id": "37d46dc9-16ef-42c3-ba0b-e3c7faebdc92",
   "metadata": {},
   "source": [
    "Bei der Auswertung von Experimenten reichen Papier und Bleistift oft nicht aus oder es wäre zumindest sehr mühsam, alles mit dem Taschenrechner auszurechnen. Deshalb verwenden wir im Praktikum bei einigen Experimenten die Programmiersprache Python in Form von Jupyer-Notebooks. Dies ist ein solches Notebook. \n",
    "\n",
    "Python ist eine in der Physik weit verbreitete Programmiersprache. Sie ist ein Kompromiss zwischen dem kommerziellen Matlab und der Programmiersprache C, die beide ebenfalls häufig verwendet werden.\n",
    "\n",
    "## JupyterLab\n",
    "\n",
    "Als Editor verwenden wir JupyterLab. Sie können von überall mit einem Webbrowser auf den Server [inf4all.uni-bayreuth.de]() der Informatik zugreifen und sich dort mit Ihrer bt-Kennung einloggen. Dort erstellen oder öffnen Sie ein Notebook der Variante 'Python3 (ipykernel)'. Sie können dieses Notebook öffnen, indem Sie es von der URL XXX laden (via file-open from URL) und dann auf dem Server speichern (via file-save). Die Dateien bleiben dort während des Semesters unter ihrem Zugang erhalten. Allerdings wird der Server selbst nicht gesichert, so dass wirklich wichtige / mühsam erstellte Dateien besser lokal auf dem eigenen Gerät gesichert werden sollten. Der Server steht Ihnen auch für andere Zwecke zur Verfügung.\n",
    "\n",
    "Alternativ (und ohne Support von unserer Seite) können Sie auch lokal auf Ihrem PC einen JupyterLab-Server betreiben, z.B. mit Anaconda. Oder Sie können Jupyter-Notebooks in VS Code bearbeiten.\n",
    "\n",
    "\n",
    "### Links\n",
    "\n",
    "- Die offizielle Python-Dokumentation [www.python.org/doc](https://www.python.org/doc)\n",
    "\n",
    "- Webseite mit Antworten zu Problemen [stackoverflow](https://www.stackoverflow.com)\n",
    "\n",
    "- Lew Classen, Mit Jupyter durchs Physikpraktikum, Springer Spektrum Wiesbaden\n",
    "[www.link.springer.com/book/10.1007/978-3-658-37723-6](https://link.springer.com/book/10.1007/978-3-658-37723-6)\n",
    "\n",
    "\n",
    "\n",
    "## Jupyter Notebooks\n",
    "\n",
    "Ein Notebook besteht aus verschiedenen Typen von Zellen (engl. cells). Zum Einen gibt es die Code-Zellen, in welche Programmcode geschrieben werden kann und zum Anderen Text-Zellen, welche dazu dienen Text, Formeln und Bildern einzufügen. Der Zell-Typ kann durch Auswählen der Zelle und Einstellen von **\"Markdown\"** für Text-Zellen oder **\"Code\"** für Code-Zellen in der Menüleiste gewechselt werden.\n",
    "\n",
    "Um eine Markdown-Zelle zu editieren, muss diese durch einen Doppelklick angewählt werden. Anschließend kann der Text eingefügt oder verändert und anschließend über die Kombination der SHIFT- und ENTER-Tasten bestätigt werden. Alternativ wird die Zelle nach der Editierung über den \"Run\"-Befehl in der Menüleiste ausgeführt werden."
   ]
  },
  {
   "cell_type": "markdown",
   "id": "11db2cce-fb4d-4823-bab3-878565f77dc9",
   "metadata": {
    "editable": true,
    "slideshow": {
     "slide_type": ""
    },
    "tags": []
   },
   "source": [
    "### Python als Taschenrechner\n",
    "\n",
    "Lassen Sie uns beginnen, indem wir Jupyter-Notebooks und Python wie ein wissenschaftlichen Taschenrechner verwenden.\n",
    "\n",
    "Um einer Variable einen Wert zuzuweisen, wird in Python der Zuweisungsoperator '**=**' genutzt, zum Beispiel:\n",
    "\n",
    "`a = 10`\n",
    "\n",
    "Die Zahl 10 wird in der Variable `a` gespeichert. (Variablen müssen nicht zuvor deklariert werden.)\n",
    "\n",
    "Bitte seien Sie hier und generell mit **Leerzeichen** großzügig! Das erleichtert deutlich die Lesbarbeit. Scheiben Sie also nicht `a=10`.\n",
    "\n",
    "Python nutzt **Zeilenumbrüche**, um einen Befehl zu beenden. Daher muss jede Anweisung auf einer neuen Zeile beginnen.  Alles nach dem `#` ist ein **Kommentar** und wird ignoriert.\n",
    "\n",
    "Die wichtigsten Symbole für arithmetische Operationen sind\n",
    "\n",
    "- $+$ zur Addition\n",
    "- \\- zur Subtraktion\n",
    "- $*$ zur Multiplikation\n",
    "- / zur Division\n",
    "- ** für Exponenten\n",
    "- // für Integer-Division (dividiert Zahlen, wobei das Ergebnis auf ganze Zahlen gerundet wird)\n",
    "- % für Modulo (gibt den Rest bei der Division zurück)\n"
   ]
  },
  {
   "cell_type": "code",
   "execution_count": 1,
   "id": "06ff76b7-6267-43c6-87cf-3e4f3bcfad3e",
   "metadata": {},
   "outputs": [
    {
     "data": {
      "text/plain": [
       "18.200000000000003"
      ]
     },
     "execution_count": 1,
     "metadata": {},
     "output_type": "execute_result"
    }
   ],
   "source": [
    "# Beispiel einer einfachen Rechnung, drücken Sie SHIFT und ENTER um die Zelle auszuführen\n",
    "3 * 5.4 + 2"
   ]
  },
  {
   "cell_type": "code",
   "execution_count": 2,
   "id": "e5b26125-f6b2-4b8c-822a-ead0bda39f5b",
   "metadata": {},
   "outputs": [
    {
     "data": {
      "text/plain": [
       "30"
      ]
     },
     "execution_count": 2,
     "metadata": {},
     "output_type": "execute_result"
    }
   ],
   "source": [
    "x = 10\n",
    "y = 3     # Weist den Variablen x und y Werte zu\n",
    "c = x * y # weist der Variablen c den Wert einer mathematischen Operation zu\n",
    "c         # das Ergebnis der letzten Zeile wird angezeigt, hier also der Wert von c ausgegeben"
   ]
  },
  {
   "cell_type": "code",
   "execution_count": 3,
   "id": "c4e5efe0-7022-474b-85cf-d6a05c21d9d4",
   "metadata": {},
   "outputs": [
    {
     "name": "stdout",
     "output_type": "stream",
     "text": [
      "w= 1.464\n"
     ]
    }
   ],
   "source": [
    "z = 3/4 + 5/7   # Sie können auch Brüche addieren\n",
    "w = round(z, 3) # mit der Funktion 'round' können Sie die Zahl z auf z.B. 3 Dezimalstellen runden\n",
    "print(\"w=\", w)  # mit diesem Befehl geben Sie das Ergebnis der Operation sowie den in Anfuehrungsstrichen festgelegten Text aus"
   ]
  },
  {
   "cell_type": "markdown",
   "id": "4f25f7fd-c0dd-4ea9-8d91-7f9a9bd32378",
   "metadata": {},
   "source": [
    "Probieren Sie das jetzt hier einmal selbst aus. Verwenden Sie jede arithmetische Operation. Fügen Sie ggf neue Zellen hinzu."
   ]
  },
  {
   "cell_type": "code",
   "execution_count": 4,
   "id": "d11e5c37-04f7-4ba5-bebc-684d65912c94",
   "metadata": {},
   "outputs": [],
   "source": [
    "# hier ausprobieren ...\n"
   ]
  },
  {
   "cell_type": "markdown",
   "id": "b6df9f35-bc24-4ff4-ad38-73593a103cee",
   "metadata": {},
   "source": [
    "## Der Kernel\n",
    "\n",
    "Ein Notebook ist etwas anderes als ein Programm oder ein Skript. Jede Codezelle wird bei der Ausführung, d.h. bei Shift-Enter, an den Kernel geschickt und dort ausgewertet. Der Kernel schickt das Ergebnis der letzten Zeile an das Notebook zurück, das es anzeigt, und merkt sich alle Variablen.\n",
    "\n",
    "Die Reihenfolge der Zellen hängt jedoch davon ab, wie sie ausgeführt werden. Sie können auch vorhergehende Zellen erneut ausführen. In diesem Fall kann sich das Ergebnis ändern, da sich der Kernel an alle vorherigen Ausführungen erinnert. \n",
    "\n",
    "Hier ist ein Beispiel: Wenn Sie die folgende Zelle ausführen, erhalten Sie zunächst das Ergebnis '10' aus dem obigen Beispiel. Der Kernel erinnert sich noch daran."
   ]
  },
  {
   "cell_type": "code",
   "execution_count": 5,
   "id": "7a55e34a-b2ed-4ee4-99d9-179e733fc155",
   "metadata": {},
   "outputs": [
    {
     "data": {
      "text/plain": [
       "10"
      ]
     },
     "execution_count": 5,
     "metadata": {},
     "output_type": "execute_result"
    }
   ],
   "source": [
    "x"
   ]
  },
  {
   "cell_type": "markdown",
   "id": "bce3681f-e54c-4d14-824f-1ea82e337af6",
   "metadata": {},
   "source": [
    "Wenn Sie dann die nächste Zelle ausführen, erhalten Sie '11'. Wenn Sie dann die vorherige Zelle wieder ausführen, erhalten Sie 11 und nicht 10."
   ]
  },
  {
   "cell_type": "code",
   "execution_count": 6,
   "id": "82f2a811-c7a9-42b3-8f88-97b2e99cd889",
   "metadata": {},
   "outputs": [
    {
     "data": {
      "text/plain": [
       "11"
      ]
     },
     "execution_count": 6,
     "metadata": {},
     "output_type": "execute_result"
    }
   ],
   "source": [
    "x = x + 1\n",
    "x"
   ]
  },
  {
   "cell_type": "markdown",
   "id": "5fcd3b05-da43-4522-b44c-c8bd1aefce1a",
   "metadata": {},
   "source": [
    "Die Reihenfolge, in der die Zellen ausgeführt werden, bestimmt also das Ergebnis, ist aber im Notebook selbst nicht dokumentiert. Dies kann zu unerwünschten Effekten führen. Es ist daher sinnvoll, im Zweifelsfall den Kernel neu zu starten und alles in der Reihenfolge des Notebooks auswerten zu lassen (via Kernel - restart and run...). Das gibt es darum auch als Doppelpfeil-Icon oben am Fenster."
   ]
  },
  {
   "cell_type": "markdown",
   "id": "3dc4b665-3342-4a21-ba66-292bb71ceede",
   "metadata": {},
   "source": [
    "### Wissenschaftliche Schreibweise von Zahlen\n",
    "\n",
    "Angenommen, Sie haben die folgende Zahl: $2.51 \\cdot 10^{-5}$.\n",
    "Diese kann geschrieben werden als:\n",
    "\n",
    "\n",
    "```\n",
    "# 2.51 * 10**-5\n",
    "```\n",
    "oder Sie nutzen die kompakte Syntax mit dem Buchstaben \"e\" gefolgt von dem Exponenten im Dezimalsystem als ganzen Zahl:\n",
    "\n",
    "\n",
    "\n",
    "```\n",
    "# 2.51e-5\n",
    "\n",
    "```\n"
   ]
  },
  {
   "cell_type": "markdown",
   "id": "9d3827db-ce80-4256-aaaf-e1dab55bbbf8",
   "metadata": {},
   "source": [
    "**Übung 1:**\n",
    "Schreiben Sie die Zahl $2.99 \\cdot 10^8$  in beiden Schreibweisen."
   ]
  },
  {
   "cell_type": "code",
   "execution_count": 7,
   "id": "e3bed527-53bc-4bd6-86f9-36a8a8f86aff",
   "metadata": {},
   "outputs": [],
   "source": [
    "# hier\n"
   ]
  },
  {
   "cell_type": "markdown",
   "id": "bab59e89-2127-47a3-a8dd-43dda05e869b",
   "metadata": {},
   "source": [
    "**Beispiel**\n",
    "\n",
    "Bestimmen Sie den Betrag der Gravitationskraft zwischen der Erde und Ihnen. Nehmen Sie dazu an, dass Sie eine Masse von 60.0kg haben und nutzen Sie für die Erde eine Masse von $5.97×10^{24}$ kg und einen Radius von 6370 km."
   ]
  },
  {
   "cell_type": "code",
   "execution_count": 8,
   "id": "2e663165-7685-4ca9-a1f3-1a9d81225b49",
   "metadata": {},
   "outputs": [
    {
     "name": "stdout",
     "output_type": "stream",
     "text": [
      "Gravitative Anziehungskraft =  588.8064391316242 N\n"
     ]
    }
   ],
   "source": [
    "G = 6.67e-11     # Gravitationskonstante in N m^2 / kg^2\n",
    "m = 60           # in kg\n",
    "M_E = 5.97e24    # in kg\n",
    "r = 6370e3       # in Meter\n",
    "F = G * m * M_E / r**2\n",
    "print(\"Gravitative Anziehungskraft = \", F, \"N\")"
   ]
  },
  {
   "cell_type": "markdown",
   "id": "10393678-9c42-4ac6-9a79-610388f9e030",
   "metadata": {},
   "source": [
    "Wir werden die signifikanten Stellen des Ergebnisses später betrachten."
   ]
  },
  {
   "cell_type": "markdown",
   "id": "2337148a-de64-4575-9dec-9f39d6ac1eb2",
   "metadata": {},
   "source": [
    "**Übung 2:**\n",
    "Berechnen Sie die Gravitationskraft zwischen Erde und Sonne, gegeben ist die Masse der Erde mit $5.97 \\cdot 10^{24} \\, kg$ und die der Sonne mit $1.99 \\cdot 10^{30} \\, kg $. Der Durchschnittsabstand zwischen den beiden Objekten ist gegeben durch $1.5 \\cdot 10^{11} \\, m$ und die Gravitationskonstante beträgt $6.674 \\cdot 10^{−11} \\,  N \\, m^2 \\,kg^{−2}$."
   ]
  },
  {
   "cell_type": "markdown",
   "id": "11579579-044c-480a-ad47-a184dabf3d4d",
   "metadata": {},
   "source": [
    "## Pakete\n",
    "\n",
    "Eine Stärke von Python ist, dass es sehr viel 'Zubehör' gibt, also Zusätze, die bestimmte Probleme lösen. Dieses 'Zubehör' nennt man *package*. Für unsere Zwecke sind math, numpy, scipy und matplotlib interessant. Diese Pakete implementieren Funktionen, die wir dann nicht mehr selnst progarmmieren müssen. \n",
    "\n",
    "Um eine Funktion aus einem Paket benutzen zu können müssen wir diese importieren und dann der Funktion voranstellen:"
   ]
  },
  {
   "cell_type": "code",
   "execution_count": 28,
   "id": "45d9b134-1914-4921-9d0f-ffb12ca69d2b",
   "metadata": {},
   "outputs": [
    {
     "data": {
      "text/plain": [
       "-0.4161468365471424"
      ]
     },
     "execution_count": 28,
     "metadata": {},
     "output_type": "execute_result"
    }
   ],
   "source": [
    "import math   # Importiert das ganze math Modul\n",
    "math.cos(2)   # Benutzt die Cosinus-Funktion aus Math"
   ]
  },
  {
   "cell_type": "markdown",
   "id": "bc49a554-e720-454d-b74c-3ff9adbc6db5",
   "metadata": {},
   "source": [
    "Gerade bei langen Modul-Namen oder oft verwendeten Funktionen ist das viel Schriebarbeit. Daher verwendet man eigentlich immer die Form"
   ]
  },
  {
   "cell_type": "code",
   "execution_count": 15,
   "id": "f208ee9f-8617-4469-81a0-d830de7b8a91",
   "metadata": {},
   "outputs": [
    {
     "data": {
      "text/plain": [
       "0.9092974268256816"
      ]
     },
     "execution_count": 15,
     "metadata": {},
     "output_type": "execute_result"
    }
   ],
   "source": [
    "import numpy as np # Importiert das ganze Numpy Modul\n",
    "np.sin(2)          # Benutzt die Sinus-Funktion aus Numpy"
   ]
  },
  {
   "cell_type": "markdown",
   "id": "2d17b5fd-9b69-4d62-9f86-039cd8883373",
   "metadata": {},
   "source": [
    "und nartülich kommen beide Pakete zum (numerisch) gleichen Ergebinis"
   ]
  },
  {
   "cell_type": "code",
   "execution_count": 16,
   "id": "10acdf7a-dc5b-434f-a3d2-7d588d78258b",
   "metadata": {
    "editable": true,
    "slideshow": {
     "slide_type": ""
    },
    "tags": []
   },
   "outputs": [
    {
     "data": {
      "text/plain": [
       "-1.1102230246251565e-16"
      ]
     },
     "execution_count": 16,
     "metadata": {},
     "output_type": "execute_result"
    }
   ],
   "source": [
    "np.sin(2) - math.sin(2)"
   ]
  },
  {
   "cell_type": "markdown",
   "id": "e4f469bb-3395-41ed-8258-935e6568e590",
   "metadata": {},
   "source": [
    "Wenn man unbedingt wollte könnte man auch nur manche Funtkionen importieren und diese ohne den Prefix verwenden. Dies gilt aber als schchert Stil."
   ]
  },
  {
   "cell_type": "code",
   "execution_count": 31,
   "id": "3a464966-917b-46e2-9055-6c97e33a7369",
   "metadata": {},
   "outputs": [
    {
     "data": {
      "text/plain": [
       "0.1149034849319005"
      ]
     },
     "execution_count": 31,
     "metadata": {},
     "output_type": "execute_result"
    }
   ],
   "source": [
    "from scipy.special import jn, jn_zeros  # Bessel-Funktion erster Art und deren Nullstellen\n",
    "jn(2,1)"
   ]
  },
  {
   "cell_type": "markdown",
   "id": "f326874f-7feb-42b6-997b-7840fadf9302",
   "metadata": {},
   "source": [
    "Lieber also so nur das Modul 'special' des Pakets scipy importieren und daraus die Bessel-Funktion verwenden. Dann ist allen klar was woher stammt,"
   ]
  },
  {
   "cell_type": "code",
   "execution_count": 26,
   "id": "ceb60cea-fdb0-46a7-9582-1e1b608f59d8",
   "metadata": {},
   "outputs": [
    {
     "data": {
      "text/plain": [
       "0.1149034849319005"
      ]
     },
     "execution_count": 26,
     "metadata": {},
     "output_type": "execute_result"
    }
   ],
   "source": [
    "from scipy import special as sf\n",
    "sf.jn(2,1)"
   ]
  },
  {
   "cell_type": "markdown",
   "id": "7559b010-8b10-4487-8842-7d98e221c49e",
   "metadata": {},
   "source": [
    "Eine Internet-Suche zusammem mit dem Stichowrt pythin und gf dem Paket-Namen hilft die passenden Funktionen zu finden."
   ]
  },
  {
   "cell_type": "code",
   "execution_count": null,
   "id": "350a4598-c22b-4d49-afe1-f43f3704e290",
   "metadata": {},
   "outputs": [],
   "source": []
  }
 ],
 "metadata": {
  "kernelspec": {
   "display_name": "Python 3 (ipykernel)",
   "language": "python",
   "name": "python3"
  },
  "language_info": {
   "codemirror_mode": {
    "name": "ipython",
    "version": 3
   },
   "file_extension": ".py",
   "mimetype": "text/x-python",
   "name": "python",
   "nbconvert_exporter": "python",
   "pygments_lexer": "ipython3",
   "version": "3.11.4"
  }
 },
 "nbformat": 4,
 "nbformat_minor": 5
}
