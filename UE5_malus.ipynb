{
 "cells": [
  {
   "cell_type": "markdown",
   "id": "f7e6c1dd",
   "metadata": {},
   "source": [
    "# Transmission durch einen Polarisator\n",
    "\n",
    "In dem Experiment haben Sie die winkelabhängige Transmission von polarisiertem Licht durch einen Polarisator gemessen. Dieses Phänomen wird manchmal als „Gesetz von Malus” bezeichnet. Nun soll ein passendes Modell an die Daten angepasst (\"gefittet\") werden, um zu testen, ob diese den erwarteten Verlauf zeigen.\n",
    "\n",
    "Wir landen alle benötigten Bibliotheken"
   ]
  },
  {
   "cell_type": "code",
   "execution_count": 1,
   "id": "987a9478",
   "metadata": {},
   "outputs": [],
   "source": [
    "import numpy as np\n",
    "import matplotlib.pyplot as plt\n",
    "from scipy.optimize import curve_fit"
   ]
  },
  {
   "cell_type": "markdown",
   "id": "d26537ed",
   "metadata": {},
   "source": [
    "## Teil A: 2 Polarisatoren\n",
    "\n",
    "In diesem Experiment bleibt ein Polarisator fix stehen, während der zweite um einen bestimmten Winkel verdreht wird. Anschließend wird die transmittierte Leistung gemessen."
   ]
  },
  {
   "cell_type": "markdown",
   "id": "f7c493ae",
   "metadata": {},
   "source": [
    "## Schritt 1: Daten eingeben\n",
    "\n",
    "Je nach dem, wie / ob Sie Ihre Messwerte gespeichert haben, geben Sie diese nun hier ein, laden Sie diese oder benutzen Sie diesen Datensatz hier. Wir brauchen einen Winkel und eine gemessene transmitteirte Leistung."
   ]
  },
  {
   "cell_type": "code",
   "execution_count": 2,
   "id": "e516ddf7",
   "metadata": {},
   "outputs": [],
   "source": [
    "# Demo-Datensatz, ggf. ersetzen durch eigene Messwerte\n",
    "alpha = np.array([  0.,  30.,  60.,  90., 120., 150., 180., 210., 240., 270., 300., 330., 360.])\n",
    "signal = np.array( [2.71, 2.64, 1.57, 0.74, 0.33, 1.71, 3.25, 2.19, 1.39, 0.64, 0.73, 1.95, 2.88])\n"
   ]
  },
  {
   "cell_type": "markdown",
   "id": "16927ebc",
   "metadata": {},
   "source": [
    "## Schritt 2: Plotten\n",
    "\n",
    "Plotten Sie die Daten als Punkte ohne verbindende Linie und beschriften Sie die Achsen"
   ]
  },
  {
   "cell_type": "code",
   "execution_count": 3,
   "id": "01cf9db7",
   "metadata": {},
   "outputs": [],
   "source": [
    "# Ihr code hier"
   ]
  },
  {
   "cell_type": "markdown",
   "id": "3ade6aa2",
   "metadata": {},
   "source": [
    "# Schritt 3: Modell\n",
    "\n",
    "Definieren Sie eine Python-Funktion `f_model()`, die die erwartete Winkelabhängigkeit beschreibt. Der erste übergebene Wert sollte der Winkel sein, die folgenden Werte die Parameter des Modells. Testen Sie anschließend die Korrektheit der Funktionsdefinition, indem Sie das Modell bei einem Winkel von 90 Grad auswerten."
   ]
  },
  {
   "cell_type": "code",
   "execution_count": 4,
   "id": "01bd8ebb",
   "metadata": {},
   "outputs": [],
   "source": [
    "# Ihr code hier"
   ]
  },
  {
   "cell_type": "markdown",
   "id": "6106e39a",
   "metadata": {},
   "source": [
    "## Schritt 4: Von Hand\n",
    "\n",
    "Es ist sehr hilfreich, zunächst die Modellfunktion von Hand an die Daten anzupassen. Zeichnen Sie dazu das Modell und die Daten gemeinsam in einen Graphen. Werten Sie dabei das Modell auf einer kontinuierlichen Winkelachse aus. Ändern Sie dann die Parameter des Modells, bis es einigermaßen zu den Daten passt. Auf diese Weise testen Sie zum einen die korrekte Funktionsweise des Modells. Zum anderen finden Sie so passende Startwerte für die numerische Anpassung."
   ]
  },
  {
   "cell_type": "code",
   "execution_count": 5,
   "id": "b87f95f4",
   "metadata": {},
   "outputs": [],
   "source": [
    "# Ihr code hier"
   ]
  },
  {
   "cell_type": "markdown",
   "id": "1bf65ed6",
   "metadata": {},
   "source": [
    "## Schritt 5: Fitten\n",
    "\n",
    "Passen Sie nun das Modell mithilfe der Funktion `curve_fit()` an die Daten an. Gehen Sie dabei davon aus, dass die Unsicherheit der Messwerte durch ihre Abweichung vom Modell ausreichend beschrieben wird. Sie müssen sich also keinen Parameter „Sigma” ausdenken. Bestimmen Sie die am besten passenden Parameter Ihrer Modellfunktion und deren Unsicherheit. Zeichnen Sie anschließend das „Best-Fit“-Modell zusammen mit den Daten in einen Graphen."
   ]
  },
  {
   "cell_type": "code",
   "execution_count": 6,
   "id": "9dec3e67",
   "metadata": {},
   "outputs": [],
   "source": [
    "# Ihr code hier\n"
   ]
  },
  {
   "cell_type": "markdown",
   "id": "36fc09bc",
   "metadata": {},
   "source": [
    "## Schritt 6: Residuen\n",
    "\n",
    "Plotten Sie die Residuen, um zu entscheiden, ob das Modell die Daten gut beschreibt. Passen Sie bei Bedarf Ihre Modellfunktion an, um die Abweichungen 'zufälliger' zu machen."
   ]
  },
  {
   "cell_type": "code",
   "execution_count": 7,
   "id": "2966100a",
   "metadata": {},
   "outputs": [],
   "source": [
    "# Ihr code hier"
   ]
  },
  {
   "cell_type": "markdown",
   "id": "eb50fbd9",
   "metadata": {},
   "source": [
    "## Teil B: 3 Polarisatoren\n",
    "\n",
    "In diesem Experiment bleiben der 1. und 3. Polarisator fix und um 90 Grad gegeneinander verdreht stehen. Der 2. Polarisator dazwischen wird gedreht. Anschließend wird die transmittierte Leistung gemessen."
   ]
  },
  {
   "cell_type": "markdown",
   "id": "81455dc4",
   "metadata": {},
   "source": [
    "Nehmen Sie diese Messwerte hier:"
   ]
  },
  {
   "cell_type": "code",
   "execution_count": 8,
   "id": "f846de3f",
   "metadata": {},
   "outputs": [],
   "source": [
    "signal2 = np.array([4.62, 1.01 ,1.87, 4.85, 0.73, 1.89, 4.53, 0.85, 1.16, 4.55, 1.03, 1.58, 4.36])"
   ]
  },
  {
   "cell_type": "markdown",
   "id": "caef8b8f",
   "metadata": {},
   "source": [
    "Um die Unsicherheit der Messung zu bestimmen, haben Sie 10 Werte bei konstantem Winkel gemessen (Daten in `rauschen`). Berechnen Sie daraus via `np.std()` die Standardabweichung $\\sigma$ der Messung."
   ]
  },
  {
   "cell_type": "code",
   "execution_count": 9,
   "id": "9cecfaef",
   "metadata": {},
   "outputs": [],
   "source": [
    "rauschen = np.array([0.96, 0.91, 1.03, 0.67, 1.02, 0.79, 1.03, 1.05, 1.03 ,1.03])"
   ]
  },
  {
   "cell_type": "markdown",
   "id": "6458ba4a",
   "metadata": {},
   "source": [
    "# Schitt 7: Wie oben\n",
    "\n",
    "Erstellen Sie ein Modell und zeichnen es von Hand zusammen mit den Daten."
   ]
  },
  {
   "cell_type": "code",
   "execution_count": 10,
   "id": "4cd85df0",
   "metadata": {},
   "outputs": [],
   "source": [
    "# Ihr code hier"
   ]
  },
  {
   "cell_type": "markdown",
   "id": "4b556ccd",
   "metadata": {},
   "source": [
    "## Schritt 8: Fitten\n",
    "\n",
    "Passen Sie das Modell an die Daten an. Übergeben Sie nun im Gegensatz zu oben die Unsicherheit der Messwerte im Parameter `sigma` von `curve_fit()` und verwenden Sie `absolute_sigma=True` . Dazu benötigen Sie auch `np.full_like( Vorlage, einzelner-Wert )` um eine Liste passender Länge herzustellen."
   ]
  },
  {
   "cell_type": "code",
   "execution_count": 11,
   "id": "c14658ee",
   "metadata": {},
   "outputs": [],
   "source": [
    "# Ihr code hier"
   ]
  },
  {
   "cell_type": "markdown",
   "id": "fc2bfc6a",
   "metadata": {},
   "source": [
    "## Schritt 9: $\\chi^2$\n",
    "\n",
    "Berechnen Sie das passend normierte  $\\chi^2$ um zu bestimmen, ob der Fit gut passt."
   ]
  },
  {
   "cell_type": "code",
   "execution_count": 12,
   "id": "ad5d8edc",
   "metadata": {},
   "outputs": [],
   "source": [
    "# Ihr code hier"
   ]
  }
 ],
 "metadata": {
  "kernelspec": {
   "display_name": "base",
   "language": "python",
   "name": "python3"
  },
  "language_info": {
   "codemirror_mode": {
    "name": "ipython",
    "version": 3
   },
   "file_extension": ".py",
   "mimetype": "text/x-python",
   "name": "python",
   "nbconvert_exporter": "python",
   "pygments_lexer": "ipython3",
   "version": "3.8.18"
  }
 },
 "nbformat": 4,
 "nbformat_minor": 5
}
