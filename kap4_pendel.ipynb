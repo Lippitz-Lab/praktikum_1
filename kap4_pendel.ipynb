{
 "cells": [
  {
   "cell_type": "markdown",
   "id": "8898a166",
   "metadata": {},
   "source": [
    "\n",
    "# Kapitel 4: Gekoppelte Pendel\n",
    "\n",
    "\n",
    "Version: 18.Juni 2025\n",
    "\n",
    "Autoren: Markus Lippitz, Thorsten Schumacher\n",
    "\n",
    "\n",
    "In diesem Kapitel beschäftigen wir uns noch einmal mit den gekoppelten Pendeln, die Sie zu Beginn des Praktikums untersucht haben. Zunächst verwenden wir eine Matrixschreibweise für das Gleichungssystem, um die Eigenfrequenz des gekoppelten Pendels einfach numerisch zu berechnen. Im Anschluss berechnen wir die Frequenzkomponenten eines Signals mittels der Fourier-Transformation. Dazwischen möchte ich Ihnen das „Avoided Crossing” als weiterführendes Thema vorstellen. In der Präsenzveranstaltung werden wir dann Ihre Messungen simulieren, den Effekt der Wschwebung noch einmal betrachten und, sofern Zeit bleibt, das Ganze auf mehr als zwei Pendel erweitern.\n"
   ]
  },
  {
   "cell_type": "markdown",
   "id": "f5b22acf",
   "metadata": {},
   "source": [
    "## Ein Pendel\n",
    "\n",
    "Für ein mathematisches Pendel der Punktmasse $m$ und der Stablänge $L$ gilt\n",
    "die Differentialgleichung seiner Winkelauslenkung $\\phi$ in der\n",
    "Näherung für kleine Winkel $|\\phi| \\ll 1$\n",
    "$$\\ddot{\\phi} + \\frac{g}{L} \\, \\phi = 0  \\quad ,$$\n",
    "wobei $g$ die Erdbeschleunigung ist. Diese Differentialgleichung können wir lösen mit einem harmonischem Ansatz, also $\\phi(t) = \\phi_0 \\, \\exp (i \\omega t)$. Dann findet man die Eigenfrequenz des Pendels zu \n",
    "$$\n",
    " \\omega =  \\sqrt{\\frac{g}{L}} \\quad .\n",
    "$$\n"
   ]
  },
  {
   "cell_type": "markdown",
   "id": "4e91d37c",
   "metadata": {},
   "source": [
    "## Gekoppelte Pendel\n",
    "\n",
    "Wenn zwei solcher Pendel durch eine Feder\n",
    "zwischen den beiden Massen gekoppelt sind, erhalten wir ein gekoppeltes System von Differentialgleichungen\n",
    "$$\n",
    " \\ddot{\\phi_1} + \\frac{g}{L_1} \\, \\phi_1 + \\frac{k}{m_1} \\, \\left( \\phi_1 - \\phi_2 \\right) =  0 \n",
    "$$ \n",
    " \n",
    "$$\n",
    " \\ddot{\\phi_2} + \\frac{g}{L_2} \\, \\phi_2 - \\frac{k}{m_2} \\, \\left( \\phi_1 - \\phi_2 \\right) =  0 \n",
    "$$ \n",
    "mit der Federkonstante $k$. \n",
    "Wir machen wieder den Ansatz harmonischer Schwingungen und schreiben das System von Differentialgleichungen als Matrix \n",
    "$$\n",
    "\\boldsymbol{M \\, \\phi} = \n",
    "\\begin{pmatrix}\n",
    "  \\frac{g}{L_1} + \\frac{k}{m_1}& - \\frac{k}{m_1} \\\\\n",
    " - \\frac{k}{m_2} & \\frac{g}{L_2} + \\frac{k}{m_2}\n",
    "\\end{pmatrix}  \\boldsymbol{\\phi} = \n",
    "\\omega^2 \\, \\boldsymbol{\\phi}\n",
    "\\quad .\n",
    "$$ \n",
    "Um das System von Differentialgleichungen zu lösen suchen wir also  Eigenwerte und Eigenvektoren von\n",
    "$\\boldsymbol{M}$. "
   ]
  },
  {
   "cell_type": "markdown",
   "id": "c23efd43",
   "metadata": {},
   "source": [
    "**Aufgabe** Vergewissern Sie sich, dass der Übergang vom Gleichungssystem zur Matrix korrekt ist."
   ]
  },
  {
   "cell_type": "markdown",
   "id": "5364f4c3",
   "metadata": {},
   "source": [
    "## Beide Pendel identisch\n",
    "\n",
    "Wir nehmen vorerst an, dass die Pendel identisch sind, d.h. $L = L_1 = L_2$ und\n",
    "$m = m_1 =m_2$. Die das Gleichungssystem beschreibende Matrix wird dann\n",
    "$$\n",
    "\\boldsymbol{M \\, \\phi} = \n",
    "\\begin{pmatrix}\n",
    "  \\frac{g}{L} + \\frac{k}{m}& - \\frac{k}{m} \\\\\n",
    " - \\frac{k}{m} & \\frac{g}{L} + \\frac{k}{m}\n",
    "\\end{pmatrix}  \\boldsymbol{\\phi} = \n",
    "\\begin{pmatrix}\n",
    "  \\omega_0^2 + \\kappa & - \\kappa  \\\\\n",
    " - \\kappa & \\omega_0^2+ \\kappa\n",
    "\\end{pmatrix}  \\boldsymbol{\\phi} =\n",
    "\\omega^2 \\, \\boldsymbol{\\phi}\n",
    "\\quad .\n",
    "$$ \n",
    "mit $\\omega_0^2 = \\frac{g}{L}$ und $\\kappa = \\frac{k}{m}$. Wir diagonalisieren die Matrix $\\boldsymbol{M}$\n",
    "$$\n",
    "\\boldsymbol{M} =\n",
    "\\begin{pmatrix}\n",
    "  \\omega_0^2 + \\kappa & - \\kappa  \\\\\n",
    " - \\kappa & \\omega_0^2+ \\kappa\n",
    "\\end{pmatrix}  \n",
    " =\n",
    " \\frac{1}{2} \\,\n",
    "\\begin{pmatrix}\n",
    "  1 &  -1\\\\\n",
    "  1 & 1  \n",
    "\\end{pmatrix}\n",
    "\\begin{pmatrix}\n",
    "  w_0^2 &  0\\\\\n",
    "  0 & \\omega_0^2 + 2 \\kappa  \n",
    "\\end{pmatrix}\n",
    "\\begin{pmatrix}\n",
    "  1 &  -1\\\\\n",
    "  1 & 1  \n",
    "\\end{pmatrix}^{-1}\n",
    "$$ \n",
    "Den Vorfaktor $1/2$ hätte man auch als $1/\\sqrt{2}$ in jede der beiden Transformations-Matrizen verteilen können.\n",
    "\n",
    "\n",
    "Die Eigenfrequenzen sind also\n",
    "$$\n",
    "\\omega_{+}^2 = \\omega_0^2 = \\frac{g}{L} \\quad \\text{und} \\quad \n",
    " \\omega_{-}^2 = \\omega_0^2 + 2 \\kappa = \\frac{g}{L} + 2 \\frac{k}{m} \\quad .\n",
    "$$\n",
    "Die Namen / Vorzeichen der Eigenwerte stammen aus der Bewegungsrichtung der pendel. Zum Plus-Eigenwert gehört der Eigenvektor aus der ersten Spalte der Transformations-Matrix, bei dem also beide Pendel in die gleiche Richtung schwingen.\n"
   ]
  },
  {
   "cell_type": "markdown",
   "id": "3a7f394b",
   "metadata": {},
   "source": [
    "## Zwei verschiedene Pendel\n",
    "\n",
    "Jetzt machen wir die beiden Pendel etwas unterschiedlich. Für individueller Längen, aber identischer Massen, erhalten wir\n",
    "$$\n",
    "\\boldsymbol{M} = \n",
    "\\begin{pmatrix}\n",
    "  \\frac{g}{L_1} + \\frac{k}{m}& - \\frac{k}{m} \\\\\n",
    " - \\frac{k}{m} & \\frac{g}{L} + \\frac{k}{m}\n",
    "\\end{pmatrix} \n",
    "=\n",
    "\\begin{pmatrix}\n",
    "  \\omega_1^2 + \\kappa& - \\kappa \\\\\n",
    " - \\kappa & \\omega_2^2 + \\kappa\n",
    "\\end{pmatrix} \n",
    "$$ \n",
    "und damit die Eigenfrequenzen\n",
    "$$\\omega_{\\pm}^2 = \\left( \\frac{\\omega_1^2 + \\omega_2^2}{2} + \\frac{k}{m} \\right)\n",
    " \\pm \\sqrt{ \\left( \\frac{\\omega_1^2 - \\omega_2^2}{2} \\right)^2 + \\left( \\frac{k}{m} \\right)^2 } \\quad .\n",
    "$$\n",
    "Für identische Längen, d.h. identische Eigenfrequenzen\n",
    "$\\omega_1 = \\omega_2$, erhält man die Ergebnisse von oben. Man kann auch wieder die Eigenvektoren ausrechnen, die die Schwingungsmuster beschreiben. Das ist aber nervig, und wir überlassen das dem Computer.\n",
    "\n"
   ]
  },
  {
   "cell_type": "markdown",
   "id": "72242127",
   "metadata": {},
   "source": [
    "## Matrix diagonalisieren in Python\n",
    "\n",
    "Das Numpy-Paket kann lineare Algebra, und so auch das Diagonalisieren von Matrizen. Wir importieren die passenden Dinge über `from numpy import linalg as LA` und benutzen dann die Funktion\n",
    "```\n",
    "eigenvalues, eigenvectors = LA.eig( matrix )\n",
    "```\n",
    "Achtung: Die Eigenwerte der Matrix $\\boldsymbol{M}$ sind die Quadrate der Eigenfrequenzen."
   ]
  },
  {
   "cell_type": "code",
   "execution_count": 1,
   "id": "fed87150",
   "metadata": {},
   "outputs": [],
   "source": [
    "import matplotlib as plt\n",
    "import numpy as np\n",
    "from numpy import linalg as LA"
   ]
  },
  {
   "cell_type": "code",
   "execution_count": 2,
   "id": "f352d200",
   "metadata": {},
   "outputs": [
    {
     "name": "stdout",
     "output_type": "stream",
     "text": [
      "Eigenvektoren:  [[-0.99549145  0.09485134]\n",
      " [-0.09485134 -0.99549145]]\n",
      "Eigenfrequenzen: [1.14038235 1.53607555]\n",
      "Eigenfrequenzen von Hand: 1.1403823517597294 1.5360755488565492\n"
     ]
    }
   ],
   "source": [
    "# Demo-Beispiel für Eigenvektoren und Eigenfrequenzen\n",
    "\n",
    "# Ein paar Zahlen\n",
    "w1 = 1.1  # Frequenz des ersten Pendels\n",
    "w2 = 1.5\n",
    "kappa = 0.1 # Kopplungskonstante\n",
    "\n",
    "# Matrix M erstellen\n",
    "M = np.matrix([[w1**2 + kappa, -kappa], [-kappa, w2**2 + kappa]])\n",
    "# Eigenwerte und Eigenvektoren berechnen\n",
    "omegasq, eigenvectors = LA.eig(M)\n",
    "\n",
    "print(\"Eigenvektoren: \", eigenvectors)\n",
    "print(\"Eigenfrequenzen:\", np.sqrt(omegasq))\n",
    "\n",
    "# von Hand ausrechnen zur Kontrolle\n",
    "wp = np.sqrt( (w1**2 + w2**2) / 2 + kappa  + np.sqrt( (w1**2 - w2**2)**2 / 4 + kappa**2 ) )\n",
    "wm = np.sqrt( (w1**2 + w2**2) / 2 + kappa  - np.sqrt( (w1**2 - w2**2)**2 / 4 + kappa**2 ) )\n",
    "print(\"Eigenfrequenzen von Hand:\", wm, wp)"
   ]
  },
  {
   "cell_type": "markdown",
   "id": "66445e44",
   "metadata": {},
   "source": [
    "## Bonus: Avoided Crossing\n",
    "\n",
    "**Nebenbemerkung** In der Physik wird das Modell des harmonischen Oszillators gerne verwendet, um die unterschiedlichsten Dinge zu beschreiben. Reicht ein einzelner Oszillator, also ein einzelnes Pendel, nicht aus, ist oft ein gekoppeltes Pendel die Lösung. Ich möchte Ihnen deshalb gerne eine Eigenschaft gekoppelter Pendel zeigen, mit der Sie wahrscheinlich erst gegen Ende Ihres Bachelor-Studiums in Berührung kommen werden. Gekoppelte Pendel zeigen ein Phänomen, das als „avoided crossing” bezeichnet wird: Ihre Eigenfrequenzen kreuzen sich nicht. Damit kann man beispielweise die Bandlücke in Halbleitern erklären.\n",
    "\n",
    "Schauen wir nochmal die Gleichung für die Eigenfrequenzen des gekoppelten Systems an\n",
    "$$\n",
    "\\omega_{\\pm}^2 = \\left( \\frac{\\omega_1^2 + \\omega_2^2}{2} + \\frac{k}{m} \\right)\n",
    " \\pm \\sqrt{ \\left( \\frac{\\omega_1^2 - \\omega_2^2}{2} \\right)^2 + \\left( \\frac{k}{m} \\right)^2 } \\quad .\n",
    "$$\n",
    "Die Frequenzen $\\omega_{\\pm}^2$ sind symmetrisch aufgespalten um den Term vor der Wurzel. Die Aufspaltung wird durch einen Term der Form $\\sqrt{a^2 + b^2}$ bestimmt, eine Art geometrischen Mittelwert. Wenn $a$ mindestens etwa 3 mal größer ist als $b$, dann dominiert $a$ so sehr, dass man $b$ vernachlässigen kann, und anders herum. Wenn  $\\kappa = k/m$ groß ist verglichen mit dem Unterschied (des Quadrats) der ungekoppelten Frequenzen $(\\omega_1^2 - \\omega_2^2)^2$, dominiert $\\kappa$, und man bekommt zwei neue Frequenzen $\\omega_{\\pm}^2$, die sich deutlich von $\\omega_{1,2}$ unterscheiden. Wenn aber der Abstand der ungekoppelten Frequenzen viel größer ist als die Stärke der Kopplung $\\kappa$, dann kommt gerade $\\omega_+ \\approx \\omega_1$ und  $\\omega_- \\approx \\omega_2$ heraus.\n",
    "\n",
    "Wir zeichnen nur die beiden neuen, gekoppelten Frequenzen $\\omega_{\\pm}^2$ als Funktion einer der ungekoppelten Frequenzen, hier $\\omega_2$ und lassen $\\omega_1$ und $\\kappa$ fest.\n"
   ]
  },
  {
   "cell_type": "code",
   "execution_count": 3,
   "id": "27e76dac",
   "metadata": {},
   "outputs": [
    {
     "data": {
      "image/png": "[encoded data removed]",
      "text/plain": [
       "<Figure size 640x480 with 1 Axes>"
      ]
     },
     "metadata": {},
     "output_type": "display_data"
    }
   ],
   "source": [
    "import matplotlib.pyplot as plt\n",
    "\n",
    "# Ein paar Zahlen \n",
    "w1 = 1     # feste Frequenz des ersten Pendels\n",
    "kappa = 0.2 # Kopplungskonstante\n",
    "\n",
    "# Variable Frequenz des zweiten Pendels\n",
    "w2liste = np.linspace(0.5, 1.5, 100)\n",
    "\n",
    "# Berechnung der Asymptoten \n",
    "w1k = np.sqrt(w1**2 + kappa)\n",
    "w2k = np.sqrt(w2liste**2 + kappa)\n",
    "\n",
    "# leere Listen für die Eigenfrequenzen\n",
    "wmliste = []\n",
    "wpliste = []    \n",
    "\n",
    "# For-Schleife über alle Frequenzen in w2liste,\n",
    "# in jedem Iteration wird w2 auf einen Wert aus w2liste gesetzt\n",
    "# und die Eigenfrequenzen werden berechnet\n",
    "# und in die Listen wmliste und wpliste gespeichert\n",
    "for w2 in w2liste:\n",
    "    # Matrix M erstellen\n",
    "    M = np.matrix([[w1**2 + kappa, -kappa], [-kappa, w2**2 + kappa]]) \n",
    "    # Eigenwerte und Eigenvektoren berechnen\n",
    "    omegasq, eigenvectors = LA.eig(M)  \n",
    "    # sortieren der Eigenwerte\n",
    "    omegasq = np.sort(omegasq)\n",
    "    # an die Listen anhängen\n",
    "    wmliste.append(np.sqrt(omegasq[0]))\n",
    "    wpliste.append(np.sqrt(omegasq[1]))     \n",
    "\n",
    "# Ende der Schleife durch Ende des Einrückens markiert!\n",
    "\n",
    "# alles Plotten\n",
    "plt.plot(w2liste, wmliste, label='$\\omega_-$')\n",
    "plt.plot(w2liste, wpliste, label='$\\omega_+$')\n",
    "\n",
    "plt.axhline(y=w1k, color='r', linestyle='--')\n",
    "plt.plot(w2liste, w2k , color='g', linestyle='--')\n",
    "\n",
    "plt.xlabel('Frequenz des zweiten Pendels $\\omega_2$')\n",
    "plt.ylabel('Eigenfrequenz')\n",
    "plt.title('Avoided Crossing am gekoppelten Pendel');\n",
    "plt.legend();\n"
   ]
  },
  {
   "cell_type": "markdown",
   "id": "b859cfea",
   "metadata": {},
   "source": [
    "## Fourier-Transformation\n",
    "\n",
    "Zur Bestimmung der Eigenfrequenzen eines Pendels ist eine Fourier-Transformation im Experiment sehr hilfreich. Dies haben Sie im Praktikum mit der Pasco-Capstone-Software durchgeführt.  Die Fourier-Transformation kommt an vielen Stellen in der Physik vor. Eine gute, praktische Einführung ist Butz: „Fourier-Transformation für Fußgänger” ( [ebook](ebohttps://link.springer.com/book/10.1007/978-3-8348-8295-0ok) ). Im Folgenden möchte ich Ihnen zeigen, wie das in Python funktioniert.\n",
    "\n",
    "Wir haben eine Sequenz von Zahlen  $f_k$,  die im gleichen zeitlichen Abstand $\\Delta t$  gemessen wurden. Bei insgesamt $N$ Zahlen betrug die Messdauer also $T = N \\Delta t$. Da wir nicht wissen, wie die Messung außerhalb dieses Zeitraums ausfallen würde, die Fourier-Transformation aber von $-\\infty$ bis $+\\infty$ geht, wird immer die Annahme getroffen, dass die gemessene Funktion periodisch fortgesetzt ist. Dies kann zu kuriosen Effekten führen, insbesondere, wenn die Messdauer im Vergleich zur Periodendauer des gemessenen Signals kurz ist. Damit ist die numerische / diskrete Fourier-Transformation\n",
    "$$ \n",
    "F_j = \\sum_{k=0}^{N-1} \\, f_k \\, e^{- k \\, j \\, 2 \\pi i / N } \n",
    "$$\n",
    "und die inverse Fourier-Transformation\n",
    "$$\n",
    "f_k = \\frac{1}{N} \\, \\sum_{j=0}^{N-1} \\, F_j \\, e^{+ k \\, j \\, 2 \\pi i / N } \\quad .\n",
    "$$\n",
    "Die Indizes zählen dabei jeweils ab Null. Aufgrund der periodischen Fortsetzung und daher $f_{-k} = f_{N - k}$ liegen die positiven Frequenzen in der ersten Hälfte von $F_j$, wenn die Frequenz zunimmt. Danach folgen die negativen Frequenzen, beginnend mit der „negativsten“ Frequenz und ansteigend bis zur letzten Frequenz vor Null. Die maximale Frequenz, die dargestellt werden kann, ist also die Nyquist-(Winkel-)Frequenz\n",
    "$$\n",
    "\\Omega_\\text{Nyquist} = \\frac{\\pi}{\\Delta t} \\quad \\text{bzw.} \\quad f_\\text{Nyquist} = \\frac{1}{2\\Delta t}\n",
    "$$\n"
   ]
  },
  {
   "cell_type": "markdown",
   "id": "62dc9e9f",
   "metadata": {},
   "source": [
    "In Python ist das Modul `fft` (fast Fourier transform) aus numpy hilfreich. Um Tippen zu sparen importiere ich es als `from numpy import fft as ft`.  Die Funktion `ft.fft` berechnet dann die (komplexwertige) Fourier-Transformation und `ft.ifft` die zugehörige Rücktransformation. (Ohne das 'import as' wäre das `np.fft.fft`.) Die Reihenfolge der Amplituden im Frequenzraum, also $F_j$ ist wie oben beschrieben, also startend von Null ansteigen bis zur Nyquist-Frequenz, dann in der zweiten Hälfte des Arrays startend bei der negativsten Frequenz ansteigend zur Null. Diese Reihenfolge ist unpraktisch zum Plotten. Daher gibt es zwei hilfreiche Funktionen:\n",
    "\n",
    "* `ft.fftfreq(n=N, d=dt)` erzeugt die passende Liste an Frequenzen, passend für $N$ Messwerte im zeitlichen Abstand $\\Delta t$.\n",
    "* `ft.fftshift( Liste )` sortiert eine Liste so um, dass die zweite Hälfte vor der ersten kommt, die Liste also bei der negativsten Frequenz anfängt und dann kontinuierlich ansteigt. Dies muss man jeweils auf die Frequenz-Achse und die Fourier-Transformieren werte anwenden.\n",
    "\n",
    "Das ist immer die komplexwertige Fourier-Transformation. Wenn man weiss, dass das zeitliche Signal reelwertig ist (wie quasi immer bei Messungen), dann ist der $|F_k| = |F_{-k}|$, also die FT bei negativen Frequenz betragsmäßig gleich der bei positiven Frequenz. Oft zeichnet man daher nur die positiven Frequenz."
   ]
  },
  {
   "cell_type": "code",
   "execution_count": 4,
   "id": "697d2e61",
   "metadata": {},
   "outputs": [
    {
     "data": {
      "application/vnd.jupyter.widget-view+json": {
       "model_id": "cfae2561dcca47b2a12bfd241d27a4b6",
       "version_major": 2,
       "version_minor": 0
      },
      "text/plain": [
       "interactive(children=(FloatSlider(value=2.0, description='f0', max=5.0), Output()), _dom_classes=('widget-inte…"
      ]
     },
     "execution_count": 4,
     "metadata": {},
     "output_type": "execute_result"
    }
   ],
   "source": [
    "from numpy import fft as ft\n",
    "from ipywidgets import interactive\n",
    "\n",
    "# Demo-Beispiel für die Fourier-Transformation\n",
    "\n",
    "def plot_fourier(f0):\n",
    "    t = np.linspace(0, 100, 1000) # Zeitachse\n",
    "    y = np.sin(f0 * np.pi * 2 * t) # Sinus-Signal mit Frequenz f0\n",
    "\n",
    "    sp = ft.fft(y) # Fourier-Transformation des Signals\n",
    "    sp = ft.fftshift(sp)  # Verschiebung der Nullfrequenz in die Mitte\n",
    "    sp = np.abs(sp)  # Betrag des Spektrums\n",
    "\n",
    "    # Frequenzachse erstellen\n",
    "    freq = ft.fftfreq(n=len(t), d=t[1] - t[0])\n",
    "    freq = ft.fftshift(freq)  # Verschiebung der Frequenzen\n",
    "\n",
    "    plt.plot(freq, sp)\n",
    "    plt.title(f'Fourier-Transformation')\n",
    "    plt.xlabel('Frequenz')\n",
    "    plt.ylabel('Amplitude')\n",
    "    plt.xlim(-5, 5)\n",
    "    plt.ylim(0, 100)\n",
    "\n",
    "interactive_plot = interactive(plot_fourier, f0=(0, 5, 0.1))\n",
    "interactive_plot\n"
   ]
  },
  {
   "cell_type": "markdown",
   "id": "62559185",
   "metadata": {},
   "source": [
    "**Aufgabe** Ändern Sie das obige Beispiel so, dass nur positive Frequenzen angezeigt werden. Erweitern Sie es außerdem so, dass Sie zwei Frequenzen einzeln einstellen können. Sie sollten dann über zwei Slider verfügen, mit denen sich jeweils ein Peak im Spektrum verschieben lässt."
   ]
  }
 ],
 "metadata": {
  "kernelspec": {
   "display_name": "base",
   "language": "python",
   "name": "python3"
  },
  "language_info": {
   "codemirror_mode": {
    "name": "ipython",
    "version": 3
   },
   "file_extension": ".py",
   "mimetype": "text/x-python",
   "name": "python",
   "nbconvert_exporter": "python",
   "pygments_lexer": "ipython3",
   "version": "3.8.18"
  }
 },
 "nbformat": 4,
 "nbformat_minor": 5
}
