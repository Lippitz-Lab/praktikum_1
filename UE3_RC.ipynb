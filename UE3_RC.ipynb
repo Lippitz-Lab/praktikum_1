{
 "cells": [
  {
   "cell_type": "markdown",
   "id": "fb3f6b69",
   "metadata": {},
   "source": [
    "# Komplexe Widerstände: RC-Filter\n",
    "\n",
    "Als Beispiel zur Verwendung der komplexen Schreibweise von Widerständen betrachten wir hier einen Tiefpass-Filter, auch RC-Filter. Das ist ein Spannungsteiler, der aus einem ohmschen Widerstand und einem Kondensator aufgebaut ist. Wir geben durch einen Funktionsgenerator eine Spannung $U$ vor und messen zunächst den Gesamt-Strom $I$, später die Spannung $U_R$, die über dem Widerstand abfällt.\n",
    "\n",
    "![RC Reihenschaltung](https://github.com/Lippitz-Lab/praktikum_1/raw/main/src/rc.png)\n",
    "\n",
    "*RC Reihenschaltung*\n"
   ]
  },
  {
   "cell_type": "markdown",
   "id": "6c306204",
   "metadata": {},
   "source": [
    "## Schritt 1: Suchen Sie sich die Formeln zusammen\n",
    "\n",
    "Notieren Sie sich hier den komplexen Widerstand eines Kondensators $Z_c$. Berechnen Sie dann analytisch den komplexwertigen Gesamtwiderstand $Z_{ges}$ einer Reihenschaltung aus Widerstand und Kondensator. Berechnen Sie auch den Strom $I$ als Funktion der Spannung $U$ und der Kreis-Frequenz $\\omega$."
   ]
  },
  {
   "cell_type": "markdown",
   "id": "dae5e202",
   "metadata": {},
   "source": [
    "**Gleichungen in Markdown / Juypter Notebooks**\n",
    "\n",
    "Mathematische Symbole schreiben sich in der LateX-Notation, entweder als Symbol in der Zeile, z.B. Widerstand $Z_C$ als `Widerstand $Z_C$`, oder als eigene Zeile als \n",
    "$$R = \\frac{U}{I}$$\n",
    "via doppelten Dollar-Zeichen, also `$$R = \\frac{U}{I}$$`"
   ]
  },
  {
   "cell_type": "markdown",
   "id": "fdc8b571",
   "metadata": {},
   "source": [
    "*Ihre Gleichungen hier* (Dpppel-Klicken auf Zelle zum Editieren)\n",
    "\n",
    "...\n"
   ]
  },
  {
   "cell_type": "markdown",
   "id": "371c2e2e",
   "metadata": {},
   "source": [
    "## Schritt 2: Strom als Funktion der Frequenz plotten\n",
    "\n",
    "Wir nehmen für $R= 16$ $k\\Omega$ und $C = 10$ nF an und zeichnen den Betrag (mit `np.abs()`) des Stroms im Frequenzbereich 0-10 kHz. Erzeugen Sie sich dazu min `np.linspace(von, bis, Schritte)` eine Frequenzachse $f$ und berechnen für jeden Wert der Achse den  (komplexwertigen) Strom $I$. Dabei können Sie ausnutzen, dass `numpy` mit Vektoren rechnen kann, Sie also einfach die selbe Operation auf alle Elemente eines Vektors anwenden können. \n",
    "\n",
    "Beschriften Sie die Achsen und vergeben Sie einen sinnvollen Titel. Multiplizieren Sie Strom und Frequenz vor dem Plotten, um die Zahlen an den Achsen sinnvoll zu halten, plotten Sie also nicht direkt in den Einheiten Hz und A. Achtung: Berechnen Sie ein komplexwertiges $I$ und plotten dann nur seinen Betrag. Wir brauchen das $I$ in den  nächsten Schritten komplex."
   ]
  },
  {
   "cell_type": "code",
   "execution_count": 1,
   "id": "08c9d027",
   "metadata": {},
   "outputs": [],
   "source": [
    "# zunächst die üblichen Bibliotheken\n",
    "import numpy as np\n",
    "import matplotlib.pyplot as plt\n",
    "from ipywidgets import interactive"
   ]
  },
  {
   "cell_type": "code",
   "execution_count": 2,
   "id": "1ea6da90",
   "metadata": {},
   "outputs": [],
   "source": [
    "# hier Ihr Code \n",
    "\n"
   ]
  },
  {
   "cell_type": "markdown",
   "id": "e0e8fef3",
   "metadata": {},
   "source": [
    "## Schritt 3: Machen Sie sich den Verlauf plausibel\n",
    "\n",
    "Diskutieren Sie in Ihrer Tisch-Gruppe den gefundenen Verlauf der Stroms als Funktion der Frequenz. Wie kann man das verstehen? Welche (anschauliche) Erklärung gibt es dafür jenseits von 'kommt halt beim Rechnen raus' ?"
   ]
  },
  {
   "cell_type": "markdown",
   "id": "4ac369cd",
   "metadata": {},
   "source": [
    "*Ihre Erklärung in kurzen Stichworten hier*\n",
    "\n",
    "..."
   ]
  },
  {
   "cell_type": "markdown",
   "id": "801122fd",
   "metadata": {},
   "source": [
    "## Schritt 4: Zeichen Sie den Verlauf der Spannung über den Bauteilen\n",
    "\n",
    "Berechnen Sie aus dem Strom $I$ die über den beiden Bauteilen abfallende Spannung $U_R$ und $U_C$. Schreiben Sie dazu zunächst die Gleichungen hier auf."
   ]
  },
  {
   "cell_type": "markdown",
   "id": "5706822f",
   "metadata": {},
   "source": [
    "*Ihre Gleichungen hier*\n",
    "\n",
    "..."
   ]
  },
  {
   "cell_type": "markdown",
   "id": "cd9f0fc8",
   "metadata": {},
   "source": [
    "Plotten Sie dann den Betrag von $U_R$ und $U_C$ als Funktion der Frequenz $f$, und ebenso den Betrag der Gesamtspannung $U_{ges} = U_R + U_C$. Sie können dabei die Ergebnisse der letzten Rechnung weiter benutzen, also brauchen zB keine neue Variable `f` definieren."
   ]
  },
  {
   "cell_type": "code",
   "execution_count": 3,
   "id": "0545d731",
   "metadata": {},
   "outputs": [],
   "source": [
    "# Ihr Code hier\n",
    "\n",
    "\n"
   ]
  },
  {
   "cell_type": "markdown",
   "id": "39e39333",
   "metadata": {},
   "source": [
    "## Schritt 5: Was bedeutet das?\n",
    "\n",
    "Es gibt zwei Aspekte dieses Graphen, die wir genauer anschauen müssen\n",
    "* Den gegenläufigen Verlauf von $|U_R|$ und $|U_C|$ über der Frequenz\n",
    "* Warum $ |U_R| + |U_C| \\neq U$ ist"
   ]
  },
  {
   "cell_type": "markdown",
   "id": "192f9594",
   "metadata": {},
   "source": [
    "### Schritt 5a: gegenläufiger Verlauf\n",
    "\n",
    "Ein Spannungsteiler aus Widerstand und Kondensator, auch RC-Glied genannt, kann als Tiefpassfilter verwendet werden. Er lässt niedrige Frequenzen deutlich besser durch als hohe. Genauso kann man ihn als Hochpassfilter benutzen. Diskutieren Sie in Ihrer Tischgruppe, wie das funktioniert. Was wäre jeweils der Eingang und der Ausgang der Filter-Schaltung?"
   ]
  },
  {
   "cell_type": "markdown",
   "id": "058d49a8",
   "metadata": {},
   "source": [
    "*Ihre Erklärung in Stichworten hier*\n",
    "\n",
    "...."
   ]
  },
  {
   "cell_type": "markdown",
   "id": "20b36d5d",
   "metadata": {},
   "source": [
    "Man beschreibt die Filterwirkung durch eine charakterstiche Frequenz $f_0$, bei der gerade die gleiche Spannung an Widerstand und Kondensator abfällt, also der Betrag des komplexen Widerstands gleich groß ist\n",
    "$$ R = \\frac{1}{2 \\pi f_0 \\, C}$$\n",
    "also \n",
    "$$ f_0 = \\frac{1}{2 \\pi R \\, C}$$\n",
    "Berechnen Sie diese charakterstiche Frequenz $f_0$ mit unseren Werte\n"
   ]
  },
  {
   "cell_type": "code",
   "execution_count": 4,
   "id": "c344e0ad",
   "metadata": {},
   "outputs": [],
   "source": [
    "# Ihr Code zur Berechnung von f0 hier\n",
    "\n"
   ]
  },
  {
   "cell_type": "markdown",
   "id": "9dbe1919",
   "metadata": {},
   "source": [
    "## Schritt 5b.1: Beträge und Vektoren\n",
    "\n",
    "Um zu untersuchen, warum  $ |U_R| + |U_C| \\neq U$ ist, passen Sie die interaktive Simulation des Widerstandsdreiecks vom Ende des Texts zur Vorbereitung auf unseren Fall hier an. Lassen Sie die Werte der Bauteile fest und variieren Sie nur die Frequenz $f$.\n",
    "\n",
    "Erklären Sie damit, warum  $ |U_R| + |U_C| \\neq U$ ist."
   ]
  },
  {
   "cell_type": "code",
   "execution_count": 5,
   "id": "73c00e65",
   "metadata": {},
   "outputs": [],
   "source": [
    "# Ihr Code hier  "
   ]
  },
  {
   "cell_type": "markdown",
   "id": "a8ffc18d",
   "metadata": {},
   "source": [
    "## Schritt 5b.2: Spannungs-Dreieck\n",
    "\n",
    "Ändern Sie die Animation von eben (nach dem Kopieren hierher), sodass sie das Spannungsdreieck zeigt: die Spannung U_R über dem Widerstand, U_C über dem Kondensator und die Gesamtspannung U als Vektoren in der komplexen Ebene. Man wählt typischerweise die Phasenlage so, dass $U_{ges}$ rein reelwertig ist. Nutzen Sie dazu, dass in der Reihenschaltung das Verhältnis der Spannungen dem Verhältnis der Widerstände entspricht. Leiten Sie also zunächst eine analytische Beziehung für die Spannungen als Funktion der komplexen Widerstände her (den Strom brauchen Sie nicht).\n",
    "\n",
    "Je nachdem, wie Sie vorgehen, müssen Sie ggf. in einem zweiten Schritt die Phase der Gesamtspannung noch auf Null anpassen, indem Sie alle Vektoren so drehen (= mit einem komplexen Wert $e^{i\\phi}$ multiplizieren), dass $U_{ges}$ rein reellwertig wird."
   ]
  },
  {
   "cell_type": "code",
   "execution_count": 6,
   "id": "8e9d057d",
   "metadata": {},
   "outputs": [],
   "source": [
    "# Ihr Code hier  "
   ]
  },
  {
   "cell_type": "markdown",
   "id": "d2240aed",
   "metadata": {},
   "source": [
    "## Bonus: RLC-Schwingkreis\n",
    "\n",
    "Schalten Sie zusätzlich eine Spule mit einer Induktivität von $L = 1$ H in Reihe mit dem bestehenden Widerstand und Kondensator. Untersuchen Sie  die Frequenzabhängigkeit der Spannung $U_R$ über den Widerstand. Erklären Sie mithilfe der Vektordarstellung, was hier geschieht."
   ]
  },
  {
   "cell_type": "code",
   "execution_count": 7,
   "id": "251664c3",
   "metadata": {},
   "outputs": [],
   "source": [
    "# Ihr Code hier  "
   ]
  }
 ],
 "metadata": {
  "kernelspec": {
   "display_name": "base",
   "language": "python",
   "name": "python3"
  },
  "language_info": {
   "codemirror_mode": {
    "name": "ipython",
    "version": 3
   },
   "file_extension": ".py",
   "mimetype": "text/x-python",
   "name": "python",
   "nbconvert_exporter": "python",
   "pygments_lexer": "ipython3",
   "version": "3.8.18"
  }
 },
 "nbformat": 4,
 "nbformat_minor": 5
}
