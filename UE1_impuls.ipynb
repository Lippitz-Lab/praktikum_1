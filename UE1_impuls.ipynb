{
 "cells": [
  {
   "cell_type": "markdown",
   "id": "ccd40d4e",
   "metadata": {},
   "source": [
    "# Versuch Impuls und Kraftstoss"
   ]
  },
  {
   "cell_type": "code",
   "execution_count": null,
   "id": "924bf9bd",
   "metadata": {},
   "outputs": [],
   "source": [
    "# wir importieren die benötigten Bibliotheken\n",
    "import numpy as np\n",
    "import pandas as pd\n",
    "import matplotlib.pyplot as plt"
   ]
  },
  {
   "cell_type": "markdown",
   "id": "65c8eaf7",
   "metadata": {},
   "source": [
    "## Schritt 1\n",
    "\n",
    "Laden Sie die beim Versuch gespeicherten Daten im Pasco CSV-Format und stellen Sie die Daten als Tabelle dar!"
   ]
  },
  {
   "cell_type": "code",
   "execution_count": null,
   "id": "1bce6ecb",
   "metadata": {},
   "outputs": [],
   "source": [
    "data = # Hier den Code für die Daten einfügen"
   ]
  },
  {
   "cell_type": "markdown",
   "id": "0b649b32",
   "metadata": {},
   "source": [
    "## Schritt 2\n",
    "\n",
    "Benennen Sie die Spalten passend um. Verwenden Sie dabei Namen, die auch gültige Bezeichner in Python sind."
   ]
  },
  {
   "cell_type": "code",
   "execution_count": null,
   "id": "e1ca6c17",
   "metadata": {},
   "outputs": [],
   "source": [
    "data.columns = # Hier den Code für die Spaltennamen einfügen"
   ]
  },
  {
   "cell_type": "markdown",
   "id": "0cb61067",
   "metadata": {},
   "source": [
    "## Schritt 3\n",
    "\n",
    "Plotten Sie Ihren gesamten Datensatz. Beschriften Sie die Achsen und verwenden Sie einen Titel und eine Legende."
   ]
  },
  {
   "cell_type": "code",
   "execution_count": null,
   "id": "94d49dc3",
   "metadata": {},
   "outputs": [],
   "source": [
    "plt.plot(); #"
   ]
  },
  {
   "cell_type": "markdown",
   "id": "2de5d7c3",
   "metadata": {},
   "source": [
    "## Schritt 4\n",
    "\n",
    "Schreiben Sie die Massen der Wagen in je eine Variable. Berechnen Sie den Impuls jedes Wagens und den Gesamtimpuls, und legen sie alles in je eine neue Spalte des Dataframes ab. Plotten Sie dann diese neuen Spalten und beschriften das Diagramm."
   ]
  },
  {
   "cell_type": "code",
   "execution_count": null,
   "id": "f711b7e4",
   "metadata": {},
   "outputs": [],
   "source": [
    "# Masse der Wagen\n",
    "mrot =   # kg\n",
    "mblau =   # kg\n",
    "\n",
    "# Impuls der Wagen\n",
    "data['pr'] = # Hier den Code für den Impuls der Wagen einfügen\n",
    "data['pb'] = # Hier den Code für den Impuls der Wagen einfügen\n",
    "data['pges'] = # Hier den Code für den Gesamtimpuls der Wagen einfügen\n"
   ]
  },
  {
   "cell_type": "code",
   "execution_count": null,
   "id": "d24bc7c3",
   "metadata": {},
   "outputs": [],
   "source": [
    "# Plotten Sie die Impulse der Wagen in Abhängigkeit von der Zeit\n"
   ]
  },
  {
   "cell_type": "markdown",
   "id": "90059018",
   "metadata": {},
   "source": [
    "## Schritt 5\n",
    "\n",
    "Eine mögliche Aussagen des vollständigen Datensatzes könnte die Erklärung der verschiedenen Phasen der Bewegung sein. Kennzeichnen und beschriften Sie diese im Plot."
   ]
  },
  {
   "cell_type": "code",
   "execution_count": null,
   "id": "1becb646",
   "metadata": {},
   "outputs": [],
   "source": [
    "# Hier Ihr Code\n"
   ]
  },
  {
   "cell_type": "markdown",
   "id": "e5ab61f6",
   "metadata": {},
   "source": [
    "## Schritt 6\n",
    "\n",
    "Eine andere mögliche Aussage könnte die Diskussion der Impulserhaltung beim Stoß sein. Skalieren Sie den Graphen so, dass diese Aussage im Vordergrund steht. \n",
    "\n",
    "Zeichnen Sie Hilfslinien ein und verschieben Sie ggf. den zeitlichen Nullpunkt."
   ]
  },
  {
   "cell_type": "code",
   "execution_count": null,
   "id": "3778ae64",
   "metadata": {},
   "outputs": [],
   "source": [
    "# hier ihr code\n"
   ]
  },
  {
   "cell_type": "markdown",
   "id": "968428fa",
   "metadata": {},
   "source": [
    "## Bonus\n",
    "\n",
    "Berechnen Sie die kinetische Energie der Wagen und diskutieren Sie die Energieerhaltung mit einem passenden Plot."
   ]
  },
  {
   "cell_type": "code",
   "execution_count": null,
   "id": "e92482e6",
   "metadata": {},
   "outputs": [],
   "source": [
    "# Hier Ihr Code \n"
   ]
  }
 ],
 "metadata": {
  "kernelspec": {
   "display_name": "base",
   "language": "python",
   "name": "python3"
  },
  "language_info": {
   "codemirror_mode": {
    "name": "ipython",
    "version": 3
   },
   "file_extension": ".py",
   "mimetype": "text/x-python",
   "name": "python",
   "nbconvert_exporter": "python",
   "pygments_lexer": "ipython3",
   "version": "3.8.18"
  }
 },
 "nbformat": 4,
 "nbformat_minor": 5
}
