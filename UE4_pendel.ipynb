{
 "cells": [
  {
   "cell_type": "markdown",
   "id": "89468b4d",
   "metadata": {},
   "source": [
    "# Schwebung am gekoppelten Pendel\n",
    "\n",
    "Wie Sie im Praktikum schon selbst gesehen haben, kann man den Effekt der Schwebung an einem gekoppelten Pendel beobachten. Dies soll hier in Python simuliert werden. Zuerst betrachten wir die Schwebung allein, ohne Pendel, am Beispiel zweier Klavier-Saiten. Danach sehen wir den gleichen Effekt dann am Pendel."
   ]
  },
  {
   "cell_type": "markdown",
   "id": "75544f10",
   "metadata": {},
   "source": [
    "## Teil A: Simulation einer Schwebung\n",
    "\n",
    "Eines der bekanntesten Beispiele für Schwebungen stammt aus der Akustik. Wenn ein Instrument wie ein Klavier gestimmt werden soll, kann man den Ton einer Stimmgabel zur Hilfe nehmen. In unserem Beispiel nehmen wir an, dass die Stimmgabel mit\n",
    "$nu_1 = 440$ Hz (Kammerton) schwingt. Wird nun am Instrument der Ton mit der Frequenz $nu_2$ gespielt, überlagern sich die beiden Schallwellen. Gilt jedoch $nu_1 = nu_2$, ist lediglich ein klarer Ton zu hören. Bei $nu_1 \\neq nu_2$ tritt Schwebung auf, da sich der Schalldruck der beiden Töne im Ohr addiert. Simulieren Sie diesen Effekt."
   ]
  },
  {
   "cell_type": "markdown",
   "id": "bfedf2a2",
   "metadata": {},
   "source": [
    "## Schritt 0: Importierten Sie die benötigten Pakete\n",
    "\n",
    "Importieren Sie hier alles, was Sie für notwendig halten, und ergänzen Sie ggf. später"
   ]
  },
  {
   "cell_type": "code",
   "execution_count": 1,
   "id": "78759df1",
   "metadata": {},
   "outputs": [],
   "source": [
    "# Ihr Code hier\n",
    "\n"
   ]
  },
  {
   "cell_type": "markdown",
   "id": "42b21101",
   "metadata": {},
   "source": [
    "## Schritt 1: Zeitlicher Verlauf des Schalldrucks\n",
    "\n",
    "Erzeugen Sie eine geeignete Zeitachse $t$ und die Schalldruckamplitude $p_1(t)$ mit der Frequenz $\\nu_1$ und analog dazu für $\\nu_2$. Gehen Sie hierbei von identischen Maximalamplituden aus."
   ]
  },
  {
   "cell_type": "code",
   "execution_count": 2,
   "id": "b25416b2",
   "metadata": {},
   "outputs": [],
   "source": [
    "# Ihr Code hier\n"
   ]
  },
  {
   "cell_type": "markdown",
   "id": "990d4d46",
   "metadata": {},
   "source": [
    "## Schritt 2: Graphische Darstellung\n",
    "\n",
    "Stellen Sie die beiden Schalldrücke als Funktion der Zeit grafisch dar. Fügen Sie anschließend einen Titel und Achsenbeschriftungen hinzu. Gestalten Sie den Graphen ansonsten so, dass er sinnvoll und ansprechend ist."
   ]
  },
  {
   "cell_type": "code",
   "execution_count": 3,
   "id": "d9d9f5bf",
   "metadata": {},
   "outputs": [],
   "source": [
    "# Ihr Code hier\n"
   ]
  },
  {
   "cell_type": "markdown",
   "id": "65f86028",
   "metadata": {},
   "source": [
    "## Schritt 3: Überlagerung\n",
    "\n",
    "Erstellen Sie einen weiteren Graphen, der die Überlagerung der beiden Töne darstellt.\n",
    "Berechnen Sie außerdem die Einhüllende der Schwebung und zeichnen Sie auch diese in den Graphen ein. Vergessen Sie Titel und Achsenbeschriftung nicht."
   ]
  },
  {
   "cell_type": "code",
   "execution_count": 4,
   "id": "2d278838",
   "metadata": {},
   "outputs": [],
   "source": [
    "# Ihr Code hier\n"
   ]
  },
  {
   "cell_type": "markdown",
   "id": "12b9cbf7",
   "metadata": {},
   "source": [
    "## Schritt 4: Slider einbauen\n",
    "\n",
    "Kopieren Sie ein Beispiel für für Verwendung von slidern aus einem der Kapitel hier her und variieren Sie die Frequenz $\\nu_2$."
   ]
  },
  {
   "cell_type": "code",
   "execution_count": 5,
   "id": "8821d55d",
   "metadata": {},
   "outputs": [],
   "source": [
    "# Ihr Code hier"
   ]
  },
  {
   "cell_type": "markdown",
   "id": "636fef83",
   "metadata": {},
   "source": [
    "## Teil B: Gekoppelte Pendel\n",
    "\n",
    "Jetzt gehen wir zu gekoppelten Pendeln über. Wir betrachten zwei Pendel gleicher Masse $m$ aber ggf. unterschiedlicher Länge $L_{1,2}$, die durch eine Feder der Federkonstante $k$ gekoppelt sind, wie im Kapitel 4 beschrieben."
   ]
  },
  {
   "cell_type": "code",
   "execution_count": 6,
   "id": "4e95612e",
   "metadata": {},
   "outputs": [],
   "source": [
    "# Parameter hier, ggf. später anpassen\n",
    "g = 9.81   # Erdbeschleunigung (m/s^2)\n",
    "m = 0.1    # Masse der Pendel (kg)\n",
    "L1 = 0.2   # Länge des ersten Pendels (m)\n",
    "L2 = 0.25  # Länge des zweiten Pendels (m)\n",
    "k = 5      # Federkonstante der Kopplung (N/m)"
   ]
  },
  {
   "cell_type": "markdown",
   "id": "d4928f92",
   "metadata": {},
   "source": [
    "## Schritt 5: Eigenfrequenzen\n",
    "\n",
    "Berechnen Sie die Eigenfrequenz der symmetrischen ($\\omega_+$) und der antisymmetrischen ($\\omega_-$) Mode entweder durch Abtippen / Kopieren der Gleichung oder mithilfe der Funktion `LA.eig()`."
   ]
  },
  {
   "cell_type": "code",
   "execution_count": 7,
   "id": "b40d2d9d",
   "metadata": {},
   "outputs": [],
   "source": [
    "# Ihr Code hier\n",
    " "
   ]
  },
  {
   "cell_type": "markdown",
   "id": "64e2d72b",
   "metadata": {},
   "source": [
    "## Schritt 6: Auslenkung Pendel 1\n",
    "\n",
    "Wir lenken Pendel 1 aus und halten Pendel 2 in Ruhe. Dann lassen wir los. Berechnen und Plotten Sie den zeitlichen Verlauf der Auslenkung von Pendel 1."
   ]
  },
  {
   "cell_type": "code",
   "execution_count": 8,
   "id": "8a13421e",
   "metadata": {},
   "outputs": [],
   "source": [
    "# Ihr Code hier\n"
   ]
  },
  {
   "cell_type": "markdown",
   "id": "858cd152",
   "metadata": {},
   "source": [
    "## Schritt 7: Fourier-Transformation\n",
    "\n",
    "Berechnen und Plotten Sie die Fourier-Transformation der Auslenkung von Pendel 1 und erklären Sie das Ergebnis."
   ]
  },
  {
   "cell_type": "code",
   "execution_count": 9,
   "id": "eca5dbe3",
   "metadata": {},
   "outputs": [],
   "source": [
    "# Ihr Code hier"
   ]
  }
 ],
 "metadata": {
  "kernelspec": {
   "display_name": "base",
   "language": "python",
   "name": "python3"
  },
  "language_info": {
   "codemirror_mode": {
    "name": "ipython",
    "version": 3
   },
   "file_extension": ".py",
   "mimetype": "text/x-python",
   "name": "python",
   "nbconvert_exporter": "python",
   "pygments_lexer": "ipython3",
   "version": "3.8.18"
  }
 },
 "nbformat": 4,
 "nbformat_minor": 5
}
